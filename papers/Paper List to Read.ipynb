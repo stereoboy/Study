{
 "cells": [
  {
   "cell_type": "markdown",
   "metadata": {},
   "source": [
    "# dennybritz\n",
    "* https://github.com/dennybritz"
   ]
  },
  {
   "cell_type": "markdown",
   "metadata": {},
   "source": [
    "## Tombone's Computer Vision Blog\n",
    "* ICCV 2015: Twenty one hottest research papers\n",
    "  *  http://www.computervisionblog.com/2015/12/iccv-2015-twenty-one-hottest-research.html"
   ]
  },
  {
   "cell_type": "markdown",
   "metadata": {},
   "source": [
    "## 9 Key Deep Learning Papers, Explained\n",
    "* http://www.kdnuggets.com/2016/09/9-key-deep-learning-papers-explained.html\n",
    "* https://adeshpande3.github.io/adeshpande3.github.io/Deep-Learning-Research-Review-Week-1-Generative-Adversarial-Nets"
   ]
  },
  {
   "cell_type": "markdown",
   "metadata": {},
   "source": [
    "## DeepMind\n",
    "* https://deepmind.com/research/publications/"
   ]
  },
  {
   "cell_type": "markdown",
   "metadata": {
    "collapsed": true
   },
   "source": [
    "# WildML\n",
    "* http://www.wildml.com/\n",
    "  * Chatbot Demo"
   ]
  },
  {
   "cell_type": "markdown",
   "metadata": {},
   "source": [
    "# Tensorflow Examples\n",
    "* https://github.com/tensorflow/models/\n",
    "* https://github.com/TensorFlowKR/awesome_tensorflow_implementations\n",
    "* https://github.com/blackecho/Deep-Learning-TensorFlow\n",
    "* https://github.com/buriburisuri"
   ]
  },
  {
   "cell_type": "markdown",
   "metadata": {
    "collapsed": true
   },
   "source": [
    "# Oxford Univ. VGG, Paper Reading group\n",
    "\n",
    "* https://www.robots.ox.ac.uk/~vgg/rg/"
   ]
  },
  {
   "cell_type": "markdown",
   "metadata": {
    "collapsed": true
   },
   "source": [
    "# Blogs\n",
    "\n",
    "\n",
    "* https://handong1587.github.io/\n",
    "  * https://handong1587.github.io/deep_learning/2015/10/09/object-detection.html"
   ]
  }
 ],
 "metadata": {
  "kernelspec": {
   "display_name": "Python 2",
   "language": "python",
   "name": "python2"
  },
  "language_info": {
   "codemirror_mode": {
    "name": "ipython",
    "version": 2
   },
   "file_extension": ".py",
   "mimetype": "text/x-python",
   "name": "python",
   "nbconvert_exporter": "python",
   "pygments_lexer": "ipython2",
   "version": "2.7.12"
  }
 },
 "nbformat": 4,
 "nbformat_minor": 1
}
