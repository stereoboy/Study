{
 "cells": [
  {
   "cell_type": "markdown",
   "metadata": {},
   "source": [
    "## RAISR : Rapid and Accurate Image Super Resolution\n",
    "\n",
    "### Introduction\n",
    "* The core idea behind RAISR\n",
    "  * enhance the quality of a very cheap (e.g. bilinear) interpolation method by applying a set of pre-learned filters on the image patches, chosen by an efficient hashing mechanism.\n"
   ]
  }
 ],
 "metadata": {
  "kernelspec": {
   "display_name": "Python 3",
   "language": "python",
   "name": "python3"
  },
  "language_info": {
   "codemirror_mode": {
    "name": "ipython",
    "version": 3
   },
   "file_extension": ".py",
   "mimetype": "text/x-python",
   "name": "python",
   "nbconvert_exporter": "python",
   "pygments_lexer": "ipython3",
   "version": "3.5.2"
  }
 },
 "nbformat": 4,
 "nbformat_minor": 2
}
