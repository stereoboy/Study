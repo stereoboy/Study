{
 "cells": [
  {
   "cell_type": "markdown",
   "metadata": {},
   "source": [
    "## MS Bot framework\n",
    "\n",
    "* Bot framework homepage\n",
    "  * https://dev.botframework.com/\n",
    "* MS opensource\n",
    "  * https://github.com/Microsoft/BotBuilder\n",
    "* MS Korean Evangelist\n",
    "  * https://github.com/KoreaEva/Bot"
   ]
  },
  {
   "cell_type": "markdown",
   "metadata": {},
   "source": [
    "## Telegram\n",
    "* Example\n",
    "  * https://github.com/PsyLang/langbot\n",
    "* Manual  \n",
    "  * https://github.com/PsyLang/langbot/blob/master/ui/telegram/test_langbot_telegram.ipynb"
   ]
  },
  {
   "cell_type": "markdown",
   "metadata": {},
   "source": [
    "## Slack\n",
    " \n",
    "* Example with GOOGLE app engine\n",
    "  * https://github.com/lexifdev/marvin\n",
    "  \n",
    "* https://github.com/pistatium/python_slack_bot\n"
   ]
  },
  {
   "cell_type": "markdown",
   "metadata": {},
   "source": [
    "## ...\n",
    "\n",
    "* facebook ultra hal\n"
   ]
  },
  {
   "cell_type": "markdown",
   "metadata": {},
   "source": [
    "## NLP\n",
    "* 한글 사이트\n",
    "  * http://revlis.egloos.com/"
   ]
  },
  {
   "cell_type": "markdown",
   "metadata": {},
   "source": [
    "# Extracting Facebook Data\n",
    "\n",
    "* References\n",
    "  * python Facebook SDK \n",
    "    * https://facebook-sdk.readthedocs.io/en/latest/\n",
    "  * How to extract user access token\n",
    "    * https://developers.facebook.com/tools/explorer\n",
    "\n",
    "  * Harvesting Facebook Posts and Comments with Python: Part 1\n",
    "    * http://simplebeautifuldata.com/2014/09/09/harvesting-facebook-posts-and-comments-with-python-part-1/\n",
    "\n",
    "\n",
    "\n",
    "\n",
    "* Facebook Messenger Bot Tutorial: Step-by-Step Instructions for Building a Basic Facebook Chat Bot\n",
    "  * https://blog.hartleybrody.com/fb-messenger-bot/\n",
    "  "
   ]
  }
 ],
 "metadata": {
  "kernelspec": {
   "display_name": "Python 3",
   "language": "python",
   "name": "python3"
  },
  "language_info": {
   "codemirror_mode": {
    "name": "ipython",
    "version": 3
   },
   "file_extension": ".py",
   "mimetype": "text/x-python",
   "name": "python",
   "nbconvert_exporter": "python",
   "pygments_lexer": "ipython3",
   "version": "3.5.2"
  }
 },
 "nbformat": 4,
 "nbformat_minor": 1
}
