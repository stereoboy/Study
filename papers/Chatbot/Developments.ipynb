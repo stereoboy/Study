{
 "cells": [
  {
   "cell_type": "markdown",
   "metadata": {},
   "source": [
    "## MS Bot framework\n",
    "\n",
    "* Bot framework homepage\n",
    "  * https://dev.botframework.com/\n",
    "* MS opensource\n",
    "  * https://github.com/Microsoft/BotBuilder\n",
    "* MS Korean Evangelist\n",
    "  * https://github.com/KoreaEva/Bot"
   ]
  },
  {
   "cell_type": "markdown",
   "metadata": {},
   "source": [
    "## Telegram\n",
    "* Example\n",
    "  * https://github.com/PsyLang/langbot\n",
    "* Manual  \n",
    "  * https://github.com/PsyLang/langbot/blob/master/ui/telegram/test_langbot_telegram.ipynb"
   ]
  },
  {
   "cell_type": "markdown",
   "metadata": {},
   "source": [
    "## Slack\n",
    " \n",
    "* Example with GOOGLE app engine\n",
    "  * https://github.com/lexifdev/marvin\n",
    "  \n",
    "* https://github.com/pistatium/python_slack_bot\n"
   ]
  },
  {
   "cell_type": "markdown",
   "metadata": {},
   "source": [
    "## ...\n",
    "\n",
    "* facebook ultra hal\n"
   ]
  }
 ],
 "metadata": {
  "kernelspec": {
   "display_name": "Python 2",
   "language": "python",
   "name": "python2"
  },
  "language_info": {
   "codemirror_mode": {
    "name": "ipython",
    "version": 2
   },
   "file_extension": ".py",
   "mimetype": "text/x-python",
   "name": "python",
   "nbconvert_exporter": "python",
   "pygments_lexer": "ipython2",
   "version": "2.7.12"
  }
 },
 "nbformat": 4,
 "nbformat_minor": 1
}
