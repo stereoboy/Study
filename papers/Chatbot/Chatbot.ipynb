{
 "cells": [
  {
   "cell_type": "markdown",
   "metadata": {},
   "source": [
    "# Nips 2016 Workshop\n",
    "\n",
    "* Homepage\n",
    "  * http://letsdiscussnips2016.weebly.com/schedule.html\n"
   ]
  },
  {
   "cell_type": "markdown",
   "metadata": {},
   "source": [
    "# Jiwei Li\n",
    "\n",
    "* Source Code\n",
    "  * https://web.stanford.edu/~jiweil/Code.html\n",
    "\n",
    "## Memory NN\n",
    "\n",
    "* Source Code\n",
    "  * https://github.com/facebook/MemNN\n",
    "\n",
    "### Dialogue learning with human-in-the-loop \n",
    "* Source Code\n",
    "  * https://github.com/facebook/MemNN/tree/master/HITL\n",
    "  "
   ]
  },
  {
   "cell_type": "markdown",
   "metadata": {},
   "source": [
    "## NEURAL MACHINE TRANSLATION BY JOINTLY LEARNING TO ALIGN AND TRANSLATE\n",
    "\n",
    "<img  src=\"P7B2T4SLY1LR90NKTRGAHNJA5DODYJ1U.png\"/>"
   ]
  },
  {
   "cell_type": "markdown",
   "metadata": {},
   "source": [
    "## Attention with Intention for a Neural Network Conversational Model\n",
    "* Upgrade simple attetion strategy as \"Attention with  Intention Networks\"\n",
    "<img  src=\"CS0GS6TRJBMLAANRXBRHQETS3C2O97U1.png\"/>\n",
    " "
   ]
  },
  {
   "cell_type": "markdown",
   "metadata": {},
   "source": [
    "## End-to-End Memory Networks\n",
    "\n",
    "* Source Code \n",
    "  * https://github.com/facebook/MemNN/blob/master/MemN2N-lang-model"
   ]
  },
  {
   "cell_type": "markdown",
   "metadata": {},
   "source": [
    "## Grammar as a Foreign Language (2015)\n",
    "* Tensorflow's embedding_attention_seq2seq implementation is based on this paper\n",
    "<img  src=\"F17M7E8CBH8N7UJ05F114JH06HFESEXL.png\"/>"
   ]
  },
  {
   "cell_type": "markdown",
   "metadata": {},
   "source": [
    "## A Persona-Based Neural Conversation Model\n",
    "\n",
    "* "
   ]
  },
  {
   "cell_type": "markdown",
   "metadata": {},
   "source": [
    "## Dialogue-based Language Learning\n",
    "\n",
    "* Source Code\n",
    "  * https://github.com/facebook/MemNN/blob/master/DBLL"
   ]
  },
  {
   "cell_type": "markdown",
   "metadata": {},
   "source": [
    "## Dialogue Learning With Human in the Loop\n",
    "\n",
    "* Source Code\n",
    "  * https://github.com/facebook/MemNN/blob/master/HITL"
   ]
  }
 ],
 "metadata": {
  "kernelspec": {
   "display_name": "Python 3",
   "language": "python",
   "name": "python3"
  },
  "language_info": {
   "codemirror_mode": {
    "name": "ipython",
    "version": 3
   },
   "file_extension": ".py",
   "mimetype": "text/x-python",
   "name": "python",
   "nbconvert_exporter": "python",
   "pygments_lexer": "ipython3",
   "version": "3.5.2"
  }
 },
 "nbformat": 4,
 "nbformat_minor": 1
}
