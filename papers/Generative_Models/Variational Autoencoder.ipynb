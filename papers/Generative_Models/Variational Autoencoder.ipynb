{
 "cells": [
  {
   "cell_type": "markdown",
   "metadata": {
    "collapsed": true
   },
   "source": [
    "## References\n",
    "* English\n",
    "  * https://jaan.io/what-is-variational-autoencoder-vae-tutorial/\n",
    "* Korean references\n",
    "  * http://nolsigan.com/blog/what-is-variational-autoencoder/\n",
    "  * http://blog.naver.com/atelierjpro/220983485213\n",
    "  * https://www.slideshare.net/ssuser06e0c5/variational-autoencoder-76552518\n",
    "  * http://yunjey47.tistory.com/43\n",
    "\n",
    "* Implementations\n",
    "  * pytorch\n",
    "    * https://github.com/yunjey/pytorch-tutorial/blob/master/tutorials/03-advanced/variational_auto_encoder/main.py\n",
    "  * tensorflow\n",
    "    * https://github.com/altosaar/vae/blob/master/vae.py\n",
    "  \n"
   ]
  },
  {
   "cell_type": "code",
   "execution_count": null,
   "metadata": {
    "collapsed": true
   },
   "outputs": [],
   "source": []
  }
 ],
 "metadata": {
  "kernelspec": {
   "display_name": "Python 3",
   "language": "python",
   "name": "python3"
  },
  "language_info": {
   "codemirror_mode": {
    "name": "ipython",
    "version": 3
   },
   "file_extension": ".py",
   "mimetype": "text/x-python",
   "name": "python",
   "nbconvert_exporter": "python",
   "pygments_lexer": "ipython3",
   "version": "3.5.2"
  }
 },
 "nbformat": 4,
 "nbformat_minor": 1
}
