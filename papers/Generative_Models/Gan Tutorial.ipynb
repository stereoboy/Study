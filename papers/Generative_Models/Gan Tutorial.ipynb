{
 "cells": [
  {
   "cell_type": "markdown",
   "metadata": {},
   "source": [
    "# GAN Tutorial by Ian Goodfellow\n",
    "* https://arxiv.org/pdf/1701.00160v1.pdf\n",
    "* Slideshttp://www.iangoodfellow.com/slides/2016-12-04-NIPS.pdf\n",
    "\n",
    "# Comments\n",
    "  * https://medium.com/@Moscow25/gans-will-change-the-world-7ed6ae8515ca#.q2vbxn4ui\n",
    "  * https://adeshpande3.github.io/adeshpande3.github.io/Deep-Learning-Research-Review-Week-1-Generative-Adversarial-Nets"
   ]
  },
  {
   "cell_type": "code",
   "execution_count": null,
   "metadata": {
    "collapsed": true
   },
   "outputs": [],
   "source": []
  }
 ],
 "metadata": {
  "kernelspec": {
   "display_name": "Python 2",
   "language": "python",
   "name": "python2"
  },
  "language_info": {
   "codemirror_mode": {
    "name": "ipython",
    "version": 2
   },
   "file_extension": ".py",
   "mimetype": "text/x-python",
   "name": "python",
   "nbconvert_exporter": "python",
   "pygments_lexer": "ipython2",
   "version": "2.7.12"
  }
 },
 "nbformat": 4,
 "nbformat_minor": 1
}
