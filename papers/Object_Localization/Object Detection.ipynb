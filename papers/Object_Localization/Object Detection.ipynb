{
 "cells": [
  {
   "cell_type": "markdown",
   "metadata": {},
   "source": [
    "# Real time Implementations using Default Boxes"
   ]
  },
  {
   "cell_type": "markdown",
   "metadata": {},
   "source": [
    "## YOLO (CVPR 2016)\n",
    "\n",
    "* Source\n",
    "  * Official implementation\n",
    "    * https://github.com/pjreddie/darknet \n",
    "* Source Code Analysis\n",
    "  * Setup for Original Paper: ./cfg/yolov1/yolo-small.cfg\n",
    "  * loss function: src/detection_layer.c\n",
    "    * forward_detection_layer(...) \n",
    "  \n",
    "'''python\n",
    "\n",
    "    train_yolo(...)\n",
    "    load_data_in_thread(...)\n",
    "    load_data_region(...)\n",
    "    fill_truth_region(...)\n",
    "\n",
    "    for (i = 0; i < count; ++i) {\n",
    "        x =  boxes[i].x;\n",
    "        y =  boxes[i].y;\n",
    "        w =  boxes[i].w;\n",
    "        h =  boxes[i].h;\n",
    "        id = boxes[i].id;\n",
    "\n",
    "        if (w < .005 || h < .005) continue;\n",
    "\n",
    "        int col = (int)(x*num_boxes);\n",
    "        int row = (int)(y*num_boxes);\n",
    "\n",
    "        x = x*num_boxes - col;\n",
    "        y = y*num_boxes - row;\n",
    "\n",
    "        int index = (col+row*num_boxes)*(5+classes);\n",
    "        if (truth[index]) continue;\n",
    "        truth[index++] = 1;\n",
    "\n",
    "        if (id < classes) truth[index+id] = 1;\n",
    "        index += classes;\n",
    "\n",
    "        truth[index++] = x;\n",
    "        truth[index++] = y;\n",
    "        truth[index++] = w;\n",
    "        truth[index++] = h;\n",
    "\n",
    "'''"
   ]
  },
  {
   "cell_type": "markdown",
   "metadata": {},
   "source": [
    "## SSD: Single Shot MultiBox Detector (ECCV 2016)\n",
    "\n",
    "* Source\n",
    "  * Official Implementation\n",
    "    * https://github.com/weiliu89/caffe/tree/ssd\n",
    "  \n",
    "* Contribution points\n",
    "  * Anchoring\n",
    "  * Multi scale Detection (c.f. Faster-R-CNN\n",
    "  * Use Convolution Layer instead of Fully Connnected Layer in the Last layer (c.f. YOLO) "
   ]
  },
  {
   "cell_type": "markdown",
   "metadata": {
    "collapsed": true
   },
   "source": [
    "## YOLO v2\n",
    "\n",
    "* Source\n",
    "  * Official implementation\n",
    "    * https://github.com/pjreddie/darknet \n",
    "\n",
    "### YOLO vs YOLO v2\n",
    "* Anchoring\n",
    "* Resolutions\n",
    "** Final layer widthxheight: 7x7 -> 13x13\n",
    "** Input layer 428x428 -> 416x416\n",
    "* Class predition and Bounding Box coordinates Regression detailed"
   ]
  },
  {
   "cell_type": "code",
   "execution_count": null,
   "metadata": {
    "collapsed": true
   },
   "outputs": [],
   "source": []
  }
 ],
 "metadata": {
  "kernelspec": {
   "display_name": "Python 3",
   "language": "python",
   "name": "python3"
  },
  "language_info": {
   "codemirror_mode": {
    "name": "ipython",
    "version": 3
   },
   "file_extension": ".py",
   "mimetype": "text/x-python",
   "name": "python",
   "nbconvert_exporter": "python",
   "pygments_lexer": "ipython3",
   "version": "3.5.2"
  }
 },
 "nbformat": 4,
 "nbformat_minor": 2
}
