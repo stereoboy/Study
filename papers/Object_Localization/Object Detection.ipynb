{
 "cells": [
  {
   "cell_type": "markdown",
   "metadata": {},
   "source": [
    "# Real time Implementations using Default Boxes"
   ]
  },
  {
   "cell_type": "markdown",
   "metadata": {},
   "source": [
    "## YOLO (CVPR 2016)\n",
    "\n",
    "* Source\n",
    "  * Official implementation\n",
    "    * https://github.com/pjreddie/darknet \n",
    "* Source Code Analysis\n",
    "  * Setup for Original Paper: ./cfg/yolov1/yolo-small.cfg\n",
    "  * loss function: src/detection_layer.c\n",
    "    * forward_detection_layer(...) \n",
    "  \n",
    "'''python\n",
    "\n",
    "    train_yolo(...)\n",
    "    load_data_in_thread(...)\n",
    "    load_data_region(...)\n",
    "    fill_truth_region(...)\n",
    "\n",
    "    for (i = 0; i < count; ++i) {\n",
    "        x =  boxes[i].x;\n",
    "        y =  boxes[i].y;\n",
    "        w =  boxes[i].w;\n",
    "        h =  boxes[i].h;\n",
    "        id = boxes[i].id;\n",
    "\n",
    "        if (w < .005 || h < .005) continue;\n",
    "\n",
    "        int col = (int)(x*num_boxes);\n",
    "        int row = (int)(y*num_boxes);\n",
    "\n",
    "        x = x*num_boxes - col;\n",
    "        y = y*num_boxes - row;\n",
    "\n",
    "        int index = (col+row*num_boxes)*(5+classes);\n",
    "        if (truth[index]) continue;\n",
    "        truth[index++] = 1;\n",
    "\n",
    "        if (id < classes) truth[index+id] = 1;\n",
    "        index += classes;\n",
    "\n",
    "        truth[index++] = x;\n",
    "        truth[index++] = y;\n",
    "        truth[index++] = w;\n",
    "        truth[index++] = h;\n",
    "\n",
    "'''"
   ]
  },
  {
   "cell_type": "markdown",
   "metadata": {},
   "source": [
    "## SSD: Single Shot MultiBox Detector (ECCV 2016)\n",
    "\n",
    "* Source\n",
    "  * Official Implementation\n",
    "    * https://github.com/weiliu89/caffe/tree/ssd\n",
    "  * Other implementation\n",
    "    * https://github.com/balancap/SSD-Tensorflow/\n",
    "  \n",
    "* Contribution points\n",
    "  * Anchoring\n",
    "  * Multi scale Detection (c.f. Faster-R-CNN\n",
    "  * Use Convolution Layer instead of Fully Connnected Layer in the Last layer (c.f. YOLO) \n",
    "  \n",
    "* data\n",
    "  * Training data: trainval.txt in VOC2012 + 2007\n",
    "  * Test data: test.txt in VOC2007\n",
    "  "
   ]
  },
  {
   "cell_type": "markdown",
   "metadata": {},
   "source": [
    "### Code Analysis\n",
    "* example/ssd/ssd_pascal.py\n",
    "  * multibox_loss_param\n",
    "    * parameter를 셋팅하는 부분\n",
    "* src/caffe/util/bbox_util.cpp\n",
    "  * MineHardExample(...)\n",
    "    * 제일 헷갈리는 부분\n",
    "    * share_location 와 loc_classes: location 관련 prediction을 할때 하나의 label에 대해서 각각 따로 할 수 있고(지금까지 없었던 내용이다.) label에 상관없이 한번만 하는 방식이 있다.(지금까지 살펴본 방식)\n",
    "    * Hard Negative mining을 위해서는 Highest Confidence  Loss ( Class에 대한 Loss) 가 높을 수록(많이 틀릴수록) negative set을 결정한다."
   ]
  },
  {
   "cell_type": "markdown",
   "metadata": {
    "collapsed": true
   },
   "source": [
    "## YOLO v2\n",
    "\n",
    "* Source\n",
    "  * Official implementation\n",
    "    * https://github.com/pjreddie/darknet\n",
    "  * Other Implementation\n",
    "    * https://github.com/thtrieu/darkflow\n",
    "\n",
    "### YOLO vs YOLO v2\n",
    "* Anchoring\n",
    "* Resolutions\n",
    "** Final layer widthxheight: 7x7 -> 13x13\n",
    "** Input layer 428x428 -> 416x416\n",
    "* Class predition and Bounding Box coordinates Regression detailed"
   ]
  },
  {
   "cell_type": "code",
   "execution_count": null,
   "metadata": {
    "collapsed": true
   },
   "outputs": [],
   "source": []
  }
 ],
 "metadata": {
  "kernelspec": {
   "display_name": "Python 3",
   "language": "python",
   "name": "python3"
  },
  "language_info": {
   "codemirror_mode": {
    "name": "ipython",
    "version": 3
   },
   "file_extension": ".py",
   "mimetype": "text/x-python",
   "name": "python",
   "nbconvert_exporter": "python",
   "pygments_lexer": "ipython3",
   "version": "3.5.2"
  }
 },
 "nbformat": 4,
 "nbformat_minor": 2
}
