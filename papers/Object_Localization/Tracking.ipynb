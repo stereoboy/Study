{
 "cells": [
  {
   "cell_type": "markdown",
   "metadata": {},
   "source": [
    "## Tracking Emerges by Colorizing Videos\n",
    "* Google Research, 2018\n",
    "### Main Strategy\n",
    "* Use large amounts of unlabeled video to learn models for visual tracking\n",
    "  * Without manual human supervision. \n",
    "* Colorization\n",
    "  * We leverage the natural temporal coherency of color to create a model that learns to colorize gray-scale videos by copying colors from a reference frame.\n",
    "  * Quantitative and qualitative experiments suggest that this task causes the model to automatically learn to track visual regions.\n",
    "* Outperform Optical flow\n",
    "  * Although the model is trained without any ground-truth labels, our method learns to track well enough to outperform optical flow based methods.\n",
    "* Advancing Colorization\n",
    "  * Our results suggest that failures to track are correlated with failures to colorize, indicating that advancing video colorization may further improve self-supervised visual tracking."
   ]
  },
  {
   "cell_type": "code",
   "execution_count": null,
   "metadata": {},
   "outputs": [],
   "source": []
  }
 ],
 "metadata": {
  "kernelspec": {
   "display_name": "Python 3",
   "language": "python",
   "name": "python3"
  }
 },
 "nbformat": 4,
 "nbformat_minor": 2
}
