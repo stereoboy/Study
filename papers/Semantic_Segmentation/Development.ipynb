{
 "cells": [
  {
   "cell_type": "markdown",
   "metadata": {},
   "source": [
    "# Data Sets\n",
    "\n",
    "\n",
    "## Visual Object Classes Challenge 2012 (VOC2012)\n",
    "* Homepage\n",
    "  * http://host.robots.ox.ac.uk/pascal/VOC/voc2012/\n",
    "* Download Training/Validation Set\n",
    "  * http://host.robots.ox.ac.uk/pascal/VOC/voc2012/#devkit\n",
    "* Download Test Set\n",
    "  * \n",
    "* Descriptions\n",
    "  * 1464 training set\n",
    "  * 1449 validation set\n",
    "\n",
    "## Pascal-Context\n",
    "* Homepage\n",
    "  * http://www.cs.stanford.edu/~roozbeh/pascal-context/\n",
    "* Download Label Data\n",
    "  * http://www.cs.stanford.edu/~roozbeh/pascal-context/\n",
    "* Download Original Dataset\n",
    "  * http://host.robots.ox.ac.uk/pascal/VOC/voc2010/#devkit\n",
    "* Descriptions\n",
    "  * upgrade Label on VOC2010 dataset\n",
    "  * total 10103\n",
    "\n",
    "## CamVid Road Scene Dataset\n",
    "* Homepage\n",
    "  * http://mi.eng.cam.ac.uk/research/projects/VideoRec/CamVid/\n",
    "\n",
    "  * http://mi.eng.cam.ac.uk/projects/segnet/tutorial.html\n",
    "* Download\n",
    "  * https://github.com/alexgkendall/SegNet-Tutorial.git\n",
    "* Descriptions\n",
    "  * 367 training set\n",
    "  * 101 validation set\n",
    "  * 233 testing set\n",
    "\n",
    "## SUN RGB-D dataset\n",
    "* Homepage\n",
    "  * http://rgbd.cs.princeton.edu/\n",
    "* "
   ]
  },
  {
   "cell_type": "markdown",
   "metadata": {
    "collapsed": true
   },
   "source": [
    "## COCO (Common Object in Context)\n",
    "* Homepage\n",
    "  * http://mscoco.org/dataset/#overview"
   ]
  },
  {
   "cell_type": "code",
   "execution_count": null,
   "metadata": {
    "collapsed": true
   },
   "outputs": [],
   "source": []
  }
 ],
 "metadata": {
  "kernelspec": {
   "display_name": "Python 2",
   "language": "python",
   "name": "python2"
  },
  "language_info": {
   "codemirror_mode": {
    "name": "ipython",
    "version": 2
   },
   "file_extension": ".py",
   "mimetype": "text/x-python",
   "name": "python",
   "nbconvert_exporter": "python",
   "pygments_lexer": "ipython2",
   "version": "2.7.12"
  }
 },
 "nbformat": 4,
 "nbformat_minor": 1
}
