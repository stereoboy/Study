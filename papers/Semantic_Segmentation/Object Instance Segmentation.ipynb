{
 "cells": [
  {
   "cell_type": "markdown",
   "metadata": {},
   "source": [
    "# References\n",
    "* Object Segmentation (D2L7 Insight@DCU Machine Learning Workshop 2017), published 4.29 2017\n",
    "  * https://www.slideshare.net/xavigiro/object-segmentation-d2l7-insightdcu-machine-learning-workshop-2017\n",
    "  * Relation between Semantic Segmentation and Instance Segmentation\n",
    "  * Strategy for Instance Segmentation\n",
    "    * Proposal Based Approach\n",
    "      * \n",
    "      * Mask R-CNN\n",
    "    * Approaches using Recurrent NN"
   ]
  },
  {
   "cell_type": "markdown",
   "metadata": {},
   "source": [
    "# Proposal Based Approach\n",
    "\n",
    "## Learning to segment object candidates (Deep Mask) (NIPS 2015)\n",
    "* Source\n",
    "  * Official Implementation by FAIR\n",
    "    * https://github.com/facebookresearch/deepmask\n",
    "* "
   ]
  },
  {
   "cell_type": "markdown",
   "metadata": {},
   "source": [
    "## Instance-aware semantic segmentation via multi-task network cascades (CVPR 2016)\n",
    "* Source\n",
    "  *"
   ]
  },
  {
   "cell_type": "markdown",
   "metadata": {},
   "source": [
    "## Mask R-CNN (2017)\n",
    "* Source\n",
    "  * Author's Homepage\n",
    "    * http://kaiminghe.com/\n",
    "  * Official Implementation\n",
    "    * Not found\n",
    "* Key contribution points\n",
    "  * ROI Align instead of ROI Pooling\n",
    "  * Mask Segmentation using Sigmoid on each class not Softmax on overall classes \n",
    "* Questions\n",
    "  * ROI Align Resolution is just 14x14\n",
    "    * How to deal with the boundaries of large objects?"
   ]
  },
  {
   "cell_type": "markdown",
   "metadata": {},
   "source": [
    "# Approach using Recurrent NN\n",
    "## Recurrent Instance Segmentation (ECCV 2016)\n",
    "* Official Implementation\n",
    "  * https://github.com/bernard24/ris"
   ]
  },
  {
   "cell_type": "code",
   "execution_count": null,
   "metadata": {
    "collapsed": true
   },
   "outputs": [],
   "source": []
  }
 ],
 "metadata": {
  "kernelspec": {
   "display_name": "Python 3",
   "language": "python",
   "name": "python3"
  },
  "language_info": {
   "codemirror_mode": {
    "name": "ipython",
    "version": 3
   },
   "file_extension": ".py",
   "mimetype": "text/x-python",
   "name": "python",
   "nbconvert_exporter": "python",
   "pygments_lexer": "ipython3",
   "version": "3.5.2"
  }
 },
 "nbformat": 4,
 "nbformat_minor": 2
}
