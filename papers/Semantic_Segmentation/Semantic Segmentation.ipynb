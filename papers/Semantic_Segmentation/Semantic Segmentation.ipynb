{
 "cells": [
  {
   "cell_type": "markdown",
   "metadata": {},
   "source": [
    "# Efficient Inference in Fully Connected CRFs with Gaussian Edge Potentials (2011)\n",
    "\n",
    "* Traditional Vision Techniques\n",
    "  * Not Deep Learning\n",
    "  * Man-designed Feature extraction\n",
    "* Contribution Points\n",
    "  * Use Dense CRF for representation of relationship between pixel\n",
    "    * Preserve color channel difference\n",
    "    * == Preserve Edges\n",
    "  * Induce bilateral filter based on gaussian filter\n",
    "  * Formulate Meanfield inference for fast computation\n",
    "  * Use Permutohedral Lattice for computing gaussian filter\n",
    "* Offical Code and slides\n",
    "  * http://vladlen.info/publications/efficient-inference-in-fully-connected-crfs-with-gaussian-edge-potentials/\n",
    "  \n",
    "### Fast High-Dimensional Filtering Using the Permutohedral Lattice (2010)\n",
    "* Contribution Points\n",
    "  * reduce time complexity of $O(e^d)$ into $O(n^2n)$ for High-Dimensional Gaussian Filtering\n",
    "    * e.g. Bilateral Filter: 2D pixel location + 3D color channel = 5D position info(input for individual pixel, not location)\n",
    "      * $ \\vec{v_i} = \\sum\\limits^{n}_{j}e^{-\\frac{1}{2}|p_i - p_j|^2}\\vec{v_j}$\n",
    "  * Permutohedral Lattice\n",
    "    * Projection D dimension High Dimensional Positions()"
   ]
  },
  {
   "cell_type": "markdown",
   "metadata": {},
   "source": [
    "# Fully Convolutional Networks for Semantic Segmentation (2015)\n",
    "* Contribution Points\n",
    "  * The first paper deeling with semantic segmentation using FCN (Fully Convolutional Networks)\n",
    "* Code\n",
    "  * https://github.com/BVLC/caffe/wiki/Model-Zoo#fcn"
   ]
  },
  {
   "cell_type": "markdown",
   "metadata": {},
   "source": [
    "# Many papers using Full Deconv Net symmetric as Front CNNs (2015)\n",
    "### SegNet: A Deep Convolutional Encoder-Decoder Architecture for Image Segmentation\n",
    "* Code\n",
    "  * http://mi.eng.cam.ac.uk/projects/segnet/\n",
    "  * https://github.com/alexgkendall/caffe-segnet"
   ]
  },
  {
   "cell_type": "markdown",
   "metadata": {},
   "source": [
    "# Semantic Image Segmentation with Deep Convlutional Nets and Fully Connected CRFs (2015)\n",
    "* Contribution Points\n",
    "  * Use CRFs as Post Processing\n",
    "* Code\n",
    "  * https://bitbucket.org/deeplab/deeplab-public"
   ]
  },
  {
   "cell_type": "markdown",
   "metadata": {},
   "source": [
    "# Conditional Random Fields as Recurrent Neural Networks (2015)\n",
    "* Contribution Points\n",
    "  * Implement CRF as Recurrent CNN\n",
    "* Code\n",
    "  * https://github.com/torrvision/crfasrnn/"
   ]
  },
  {
   "cell_type": "code",
   "execution_count": null,
   "metadata": {
    "collapsed": true
   },
   "outputs": [],
   "source": []
  }
 ],
 "metadata": {
  "kernelspec": {
   "display_name": "Python 2",
   "language": "python",
   "name": "python2"
  },
  "language_info": {
   "codemirror_mode": {
    "name": "ipython",
    "version": 2
   },
   "file_extension": ".py",
   "mimetype": "text/x-python",
   "name": "python",
   "nbconvert_exporter": "python",
   "pygments_lexer": "ipython2",
   "version": "2.7.12"
  }
 },
 "nbformat": 4,
 "nbformat_minor": 1
}
