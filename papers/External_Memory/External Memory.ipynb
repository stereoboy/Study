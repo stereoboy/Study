{
 "cells": [
  {
   "cell_type": "markdown",
   "metadata": {},
   "source": [
    "# References\n",
    "* Stanford NLP Lecture\n",
    "  * http://cs224d.stanford.edu/syllabus.html"
   ]
  },
  {
   "cell_type": "markdown",
   "metadata": {},
   "source": [
    "# Papers\n",
    "## Memory Networks (2014)\n"
   ]
  },
  {
   "cell_type": "markdown",
   "metadata": {},
   "source": [
    "## End-To-End Memory Networks\n",
    "* Source Code\n",
    "  * https://github.com/facebook/MemNN\n",
    "* Differential Version Of Memory Networks\n",
    "* Two grand challenges in artifical intelligence research\n",
    "  * Multiple computational steps in the service of answering a question or completing a task\n",
    "  * Long term dependencies in sequential data\n",
    "* Because the function from input to output is smooth, we can easily compute gradients and back-propagate through it.\n",
    "<img  src=\"C2Q7W6NKPYUTPK448GGVG6E7W1VXQ408.png\"/>"
   ]
  },
  {
   "cell_type": "markdown",
   "metadata": {},
   "source": [
    "## Neural Turing Machine (2014)\n",
    "\n",
    "* Human Cognition VS Computing\n",
    "   * Rule-based manipulation VS Simple Program\n",
    "   * Short-term storage of information VS Program arguments  \n",
    "   * -> Working Memorm VS \"NTM\""
   ]
  },
  {
   "cell_type": "markdown",
   "metadata": {},
   "source": [
    "<img  src=\"LKTTEJA7F9N1D58DRU1G1Q1AF3X0JUTB.png\"/>\n",
    "<img  src=\"YPIE6LGFCS12CPEWOSRG7IB2GXC0C831.png\"/>"
   ]
  },
  {
   "cell_type": "markdown",
   "metadata": {},
   "source": [
    "## Pointer Networks (2015)"
   ]
  },
  {
   "cell_type": "markdown",
   "metadata": {},
   "source": [
    "## Ask Me Anything: Dynamic Memory Networks for Natural Language Processing (DMN, Dynamic Memory Networks) (2015)"
   ]
  },
  {
   "cell_type": "markdown",
   "metadata": {},
   "source": [
    "## Hybrid computing using a neural network with dynamic external memory (DNC) (2016)"
   ]
  },
  {
   "cell_type": "markdown",
   "metadata": {
    "collapsed": true
   },
   "source": [
    "## Scaling Memory-Augmented Neural Networks with Sparse Reads and Writes"
   ]
  },
  {
   "cell_type": "code",
   "execution_count": null,
   "metadata": {
    "collapsed": true
   },
   "outputs": [],
   "source": []
  }
 ],
 "metadata": {
  "kernelspec": {
   "display_name": "Python 2",
   "language": "python",
   "name": "python2"
  },
  "language_info": {
   "codemirror_mode": {
    "name": "ipython",
    "version": 2
   },
   "file_extension": ".py",
   "mimetype": "text/x-python",
   "name": "python",
   "nbconvert_exporter": "python",
   "pygments_lexer": "ipython2",
   "version": "2.7.12"
  }
 },
 "nbformat": 4,
 "nbformat_minor": 1
}
