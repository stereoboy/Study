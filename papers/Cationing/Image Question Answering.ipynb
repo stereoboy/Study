{
 "cells": [
  {
   "cell_type": "markdown",
   "metadata": {},
   "source": [
    "# VQA: Visual Question Answering\n",
    "* Homepage\n",
    "  * http://www.visualqa.org/\n",
    "  * http://visualqa.csail.mit.edu/\n",
    "* Source Code\n",
    "  * https://github.com/VT-vision-lab/VQA_LSTM_CNN"
   ]
  },
  {
   "cell_type": "markdown",
   "metadata": {},
   "source": [
    "# Simple Baseline for Visual Question Answering\n",
    "* Source Code\n",
    "  * https://github.com/metalbubble/VQAbaseline"
   ]
  },
  {
   "cell_type": "markdown",
   "metadata": {},
   "source": [
    "# Exploring Models and Data for Image Question Answering\n",
    "\n",
    "* Homepage\n",
    "  * http://www.cs.toronto.edu/~mren/imageqa/\n",
    "* Source code\n",
    "  * https://github.com/renmengye/imageqa-public"
   ]
  },
  {
   "cell_type": "markdown",
   "metadata": {},
   "source": [
    "# Visual7W: Grounded Question Answering in Images\n",
    "* Homepage\n",
    "  * http://web.stanford.edu/~yukez/visual7w/\n",
    "* Source Code\n",
    "  * https://github.com/yukezhu/visual7w-qa-models"
   ]
  },
  {
   "cell_type": "markdown",
   "metadata": {},
   "source": [
    "# Image Question Answering using Convolutional Neural Network with Dynamic Parameter Prediction\n",
    "\n",
    "* Homepage\n",
    "  * http://cvlab.postech.ac.kr/research/dppnet/"
   ]
  }
 ],
 "metadata": {
  "kernelspec": {
   "display_name": "Python 2",
   "language": "python",
   "name": "python2"
  },
  "language_info": {
   "codemirror_mode": {
    "name": "ipython",
    "version": 2
   },
   "file_extension": ".py",
   "mimetype": "text/x-python",
   "name": "python",
   "nbconvert_exporter": "python",
   "pygments_lexer": "ipython2",
   "version": "2.7.12"
  }
 },
 "nbformat": 4,
 "nbformat_minor": 1
}
