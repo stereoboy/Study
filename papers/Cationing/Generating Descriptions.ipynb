{
 "cells": [
  {
   "cell_type": "markdown",
   "metadata": {},
   "source": [
    "# Deep fragment embeddings for bidirectional image sentence mapping"
   ]
  },
  {
   "cell_type": "markdown",
   "metadata": {},
   "source": [
    "# Show and Tell: Lessons learned from the 2015 MSCOCO Image Captioning Challenge\n",
    "<img  src=\"XVGRHNV2HGTX9Y2GVN9HCP6L4PU68HQV.png\"/>\n",
    "* Source Code\n",
    "  * https://github.com/tensorflow/models/tree/master/im2txt"
   ]
  },
  {
   "cell_type": "markdown",
   "metadata": {},
   "source": [
    "## Show, Attend and Tell: Neural Image Caption Generation with Visual Attention (2015 ICML)\n",
    "\n",
    "<img  src=\"VA9XHIPUMJQ7X1YB7SHR9FPU29T9VXCK.png\"/>\n",
    "\n",
    "* Feature Map after Front CNNs: 14x14x512 (widthxheightxchannel)\n",
    "  * each 1x1x512 is $\\{a_i\\}$\n",
    "* Implementation Detail by checking source code\n",
    "  * $f_{att}$: 2 layer-MLP\n",
    "    * $f_{att}(\\mathbf{a_i}, \\mathbf{h}_{t-1})$ 's implementation\n",
    "      * intermediate layers :  $\\mathbf{ctx} = \\mathbf{W}_{D->D}\\mathbf{a_i} + \\mathbf{bias}$\n",
    "      * final layer: $\\mathbf{W}_{D->1}(\\mathbf{ctx} + \\mathbf{W}_{n->D}\\mathbf{h}_{t-1}) + \\mathbf{bias}$\n",
    "  * $f_{init,c}$: 2 layer-MLP\n",
    "  * $f_{init,h}$: 2 layer-MLP\n",
    "* Source Code\n",
    "  * https://github.com/kelvinxu/arctic-captions"
   ]
  },
  {
   "cell_type": "markdown",
   "metadata": {},
   "source": [
    "# Deep Visual-Semantic Alignments for Generating Image Descriptions\n",
    "* Homepage\n",
    "  * http://cs.stanford.edu/people/karpathy/deepimagesent/\n",
    "* Source Code\n",
    "  * https://github.com/karpathy/neuraltalk"
   ]
  },
  {
   "cell_type": "markdown",
   "metadata": {},
   "source": [
    "# DenseCap: Fully Convolutional Localization Networks for Dense Captioning\n",
    "* Homepage\n",
    "  * http://cs.stanford.edu/people/karpathy/densecap/\n",
    "* Source code\n",
    "  * https://github.com/jcjohnson/densecap"
   ]
  },
  {
   "cell_type": "markdown",
   "metadata": {},
   "source": []
  }
 ],
 "metadata": {
  "kernelspec": {
   "display_name": "Python 2",
   "language": "python",
   "name": "python2"
  },
  "language_info": {
   "codemirror_mode": {
    "name": "ipython",
    "version": 2
   },
   "file_extension": ".py",
   "mimetype": "text/x-python",
   "name": "python",
   "nbconvert_exporter": "python",
   "pygments_lexer": "ipython2",
   "version": "2.7.12"
  }
 },
 "nbformat": 4,
 "nbformat_minor": 1
}
