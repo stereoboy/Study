{
 "cells": [
  {
   "cell_type": "markdown",
   "metadata": {},
   "source": [
    "# About Data\n",
    "\n",
    "## Emotion Data\n",
    "\n",
    "* Emotion Class (6 basic emotions + 1 neutral)\n",
    "  1. Neutral\n",
    "  1. Sadness\n",
    "  1. Fear\n",
    "  1. Anger\n",
    "  1. Disgust\n",
    "  1. Surprise\n",
    "  1. Happiness"
   ]
  },
  {
   "cell_type": "markdown",
   "metadata": {},
   "source": [
    "# Datasets\n",
    "\n",
    "## MIT-CBCL\n",
    "\n",
    "* Homepage\n",
    "  * http://cbcl.mit.edu/software-datasets/FaceData2.html"
   ]
  }
 ],
 "metadata": {
  "kernelspec": {
   "display_name": "Python 2",
   "language": "python",
   "name": "python2"
  },
  "language_info": {
   "codemirror_mode": {
    "name": "ipython",
    "version": 2
   },
   "file_extension": ".py",
   "mimetype": "text/x-python",
   "name": "python",
   "nbconvert_exporter": "python",
   "pygments_lexer": "ipython2",
   "version": "2.7.12"
  }
 },
 "nbformat": 4,
 "nbformat_minor": 1
}
