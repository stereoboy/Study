{
 "cells": [
  {
   "cell_type": "markdown",
   "metadata": {},
   "source": [
    "# Face Alignment and Frontalization\n",
    "## Extracting fiducial Points"
   ]
  },
  {
   "cell_type": "markdown",
   "metadata": {
    "collapsed": true
   },
   "source": [
    "## One Millisecond Face Alignment with an Ensemble of Regression Trees (2014)\n",
    "\n",
    "* Gradient Boosting + Desition Tree for Regression\n",
    "  * https://en.wikipedia.org/wiki/Gradient_boosting\n",
    "  * Gradient Boosting에 대해 쉽게 설명되어있는 자료\n",
    "    * http://www.ccs.neu.edu/home/vip/teach/MLcourse/4_boosting/slides/gradient_boosting.pdf\n",
    "    * Gradient Boosting과 Adaboost의 관계\n",
    "    * Why \"Gradient\" Boosting? 왜 Gradient 라고 불리는지에 대한 설명\n",
    "  * The presentation material of authors' of Boosting\n",
    "    * http://www.di.unipi.it/~cardillo/AA0304/fabio/boosting.pdf\n",
    "* Why so fast?\n",
    "  * 다른 방법들처럼 전체 Image를 검색하는 것이 아니라 mean shape(mean fisidual points)로 부터 점층적으로 주변 점을 뒤져 나간다. (By Strategy of Boosting)\n",
    "    * Boosting means that We can upgrade system performance by adding (finer) regressor(prediction model) on previous knowledge\n",
    "  * Gradient Boosting 에 Regression Tree를 사용함으로서 "
   ]
  },
  {
   "cell_type": "markdown",
   "metadata": {},
   "source": [
    "<img  src=\"Q217T5JXAG4OL348FWG4JSXXUEIILURB.png\"/>"
   ]
  }
 ],
 "metadata": {
  "kernelspec": {
   "display_name": "Python 2",
   "language": "python",
   "name": "python2"
  },
  "language_info": {
   "codemirror_mode": {
    "name": "ipython",
    "version": 2
   },
   "file_extension": ".py",
   "mimetype": "text/x-python",
   "name": "python",
   "nbconvert_exporter": "python",
   "pygments_lexer": "ipython2",
   "version": "2.7.12"
  }
 },
 "nbformat": 4,
 "nbformat_minor": 1
}
