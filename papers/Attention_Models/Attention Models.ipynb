{
 "cells": [
  {
   "cell_type": "markdown",
   "metadata": {
    "collapsed": false
   },
   "source": [
    "# Hard Attention VS Soft Attention\n",
    "\n",
    "* Hard Attention\n",
    "  * Chose Attention spots (or locations) using Stochastical methods\n",
    "  * Use Reinforcement Learning\n",
    "  * e.g. Recurrent Visual Models of Visual Attention\n",
    "  <img  src=\"FWIT2SG15Y6C0LDA1SINWLNIU081XORX.png\"/>\n",
    "* Soft Attention\n",
    "  * Consider All spot with their weights(Using weights means Attention)\n",
    "  * Guarantee Differentiability of Model => Traditional Back Propagation\n",
    "  * e.g. Neural Machine Translation By Jointly Learning to Align and Translate\n",
    "  <img  src=\"Screenshot from 2016-12-21 01-47-39.png\" width=200/>\n",
    "* References\n",
    "  * https://blog.heuritech.com/2016/01/20/attention-mechanism/\n",
    "  * http://stackoverflow.com/questions/35549588/soft-attention-vs-hard-attention"
   ]
  },
  {
   "cell_type": "markdown",
   "metadata": {},
   "source": []
  }
 ],
 "metadata": {
  "kernelspec": {
   "display_name": "Python 2",
   "language": "python",
   "name": "python2"
  },
  "language_info": {
   "codemirror_mode": {
    "name": "ipython",
    "version": 2
   },
   "file_extension": ".py",
   "mimetype": "text/x-python",
   "name": "python",
   "nbconvert_exporter": "python",
   "pygments_lexer": "ipython2",
   "version": "2.7.12"
  }
 },
 "nbformat": 4,
 "nbformat_minor": 1
}
