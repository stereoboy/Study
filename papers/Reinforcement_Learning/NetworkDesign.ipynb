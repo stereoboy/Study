{
 "cells": [
  {
   "cell_type": "markdown",
   "metadata": {},
   "source": [
    "## Reinforcement Learning with Unsupervised Auxiliary Tasks\n",
    "* Deepmind, 2016\n",
    "\n",
    "### Main Strategy\n",
    "* Learning state transition model and reward regression(anticipating) model using experience history.\n",
    "* Use the convolution front end network for the typical actor/critic front end.\n",
    "* No other information except for state, next state, reward. => Unsupervised Auxiliary"
   ]
  },
  {
   "cell_type": "code",
   "execution_count": null,
   "metadata": {},
   "outputs": [],
   "source": []
  }
 ],
 "metadata": {
  "kernelspec": {
   "display_name": "Python 3",
   "language": "python",
   "name": "python3"
  }
 },
 "nbformat": 4,
 "nbformat_minor": 2
}
