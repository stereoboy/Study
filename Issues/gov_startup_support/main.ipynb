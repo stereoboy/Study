{
 "cells": [
  {
   "cell_type": "markdown",
   "metadata": {
    "deletable": true,
    "editable": true
   },
   "source": [
    "\n",
    "* 중소기업청\n",
    "  * 2015년도 선도벤처연계 기술창업지원사업 (예비)창업팀 모집 공고\n",
    "    * http://www.smba.go.kr/site/smba/ex/bbs/View.do?cbIdx=81&bcIdx=51347&parentSeq=0\n",
    "* 청년포털\n",
    "  * 창업지원 사업공고\n",
    "    * https://www.young.go.kr/#!/content/16779\n",
    "* 경기 테크노파크\n",
    "  * http://gtp.or.kr/antp/index/default.jsp\n",
    "\n",
    "* k-startup\n",
    "  * 2017년도 정부 창업지원사업 통합공고\n",
    "    * https://www.k-startup.go.kr/common/announcement/announcementDetail.do\n",
    "  * 2016년도 󰡔창업맞춤형 사업화 지원사업󰡕 창업기업 모집\n",
    "    * https://www.k-startup.go.kr/common/ctpAttachFileView.do?attachSn=1976259"
   ]
  },
  {
   "cell_type": "markdown",
   "metadata": {
    "collapsed": true,
    "deletable": true,
    "editable": true
   },
   "source": [
    "\n",
    "* 창의도전 SW R&D 지원사업\n",
    "  * 공고\n",
    "    * http://devlab.oss.kr/info/notice/385\n",
    "  * 접수처\n",
    "    * http://www.swrnd.or.kr"
   ]
  }
 ],
 "metadata": {
  "kernelspec": {
   "display_name": "Python 3",
   "language": "python",
   "name": "python3"
  },
  "language_info": {
   "codemirror_mode": {
    "name": "ipython",
    "version": 3
   },
   "file_extension": ".py",
   "mimetype": "text/x-python",
   "name": "python",
   "nbconvert_exporter": "python",
   "pygments_lexer": "ipython3",
   "version": "3.5.2"
  }
 },
 "nbformat": 4,
 "nbformat_minor": 1
}
