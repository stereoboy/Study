{
 "cells": [
  {
   "cell_type": "markdown",
   "metadata": {},
   "source": [
    "## AWS\n",
    "\n",
    "* Setup EBS for virtualenv and Data Storage\n",
    "\n",
    "```sh\n",
    "$ sudo mkfs.ext4 /dev/xvdb \n",
    "mke2fs 1.42.13 (17-May-2015)\n",
    "Creating filesystem with 26214400 4k blocks and 6553600 inodes\n",
    "Filesystem UUID: 31dcd857-83df-4288-86c0-d9e0bdb5e65d\n",
    "Superblock backups stored on blocks: \n",
    "\t32768, 98304, 163840, 229376, 294912, 819200, 884736, 1605632, 2654208, \n",
    "\t4096000, 7962624, 11239424, 20480000, 23887872\n",
    "\n",
    "Allocating group tables: done                            \n",
    "Writing inode tables: done                            \n",
    "Creating journal (32768 blocks): done\n",
    "Writing superblocks and filesystem accounting information: done\n",
    "$ sudo umount ./work \n",
    "$ sudo mount /dev/xvdb ./work/\n",
    "$ sudo chown ubuntu.ubuntu -R ~/work/\n",
    "```"
   ]
  },
  {
   "cell_type": "markdown",
   "metadata": {},
   "source": [
    "## CUDA and NVIDIA stuffs \n",
    "* CUDA\n",
    "  * https://developer.nvidia.com/cuda-downloads\n",
    "```sh\n",
    "$ sudo dpkg -i cuda-repo-ubuntu1604_8.0.61-1_amd64.deb\n",
    "$ sudo apt-get update\n",
    "$ sudo apt-get install cuda\n",
    "```\n",
    "\n",
    "* CUDNN\n",
    "  * https://developer.nvidia.com/cudnn\n",
    "```sh\n",
    "$ tar -xzvf cudnn-8.0-linux-x64-v5.1.tgz\n",
    "$ sudo cp -a cuda/include/cudnn.h /usr/local/cuda/include\n",
    "$ sudo cp -a cuda/lib64/libcudnn* /usr/local/cuda/lib64\n",
    "$ sudo chmod a+r /usr/local/cuda/include/cudnn.h /usr/local/cuda/lib64/libcudnn*\n",
    "```\n",
    "* REBOOT"
   ]
  },
  {
   "cell_type": "markdown",
   "metadata": {},
   "source": [
    "## Virtualenv\n",
    "* setup virtualenv\n",
    "```sh\n",
    "$ sudo apt-get install python3-pip python3-dev\n",
    "$ sudo -H pip3 install --upgrade pip\n",
    "$ sudo pip3 install virtualenv\n",
    "$ virtualenv virtualenv\n",
    "$ source virtualenv/bin/activate\n",
    "$ pip3 install opencv-python\n",
    "$ pip3 install scipy\n",
    "$ pip3 install pillow\n",
    "$ pip3 install xmltodict\n",
    "$ pip3 install tqdm\n",
    "```"
   ]
  },
  {
   "cell_type": "markdown",
   "metadata": {},
   "source": [
    "## OpenCV\n",
    "\n",
    "* References for default compiling\n",
    "  * http://docs.opencv.org/3.2.0/d7/d9f/tutorial_linux_install.html\n",
    "* Lightweight Build Option  \n",
    "\n",
    "```sh\n",
    "cmake -D BUILD_PERF_TESTS=OFF -D BUILD_TESTS=OFF -D WITH_OPENCL=OFF -D WITH_CUDA=OFF -D WITH_IPP=OFF -D PYTHON_DEFAULT_EXECUTABLE=/home/ubuntu/work/virtualenv/bin/python3.5 -D CMAKE_BUILD_TYPE=RELEASE -D CMAKE_INSTALL_PREFIX=/opt  ..\n",
    "\n",
    "```"
   ]
  },
  {
   "cell_type": "markdown",
   "metadata": {},
   "source": [
    "## Tensorflow\n",
    "\n",
    "### Setup\n",
    "* setup\n",
    "```sh\n",
    "$ sudo apt-get install libcupti-dev\n",
    "$ pip3 install --upgrade tensorflow-gpu\n",
    "```"
   ]
  },
  {
   "cell_type": "code",
   "execution_count": null,
   "metadata": {
    "collapsed": true
   },
   "outputs": [],
   "source": []
  }
 ],
 "metadata": {
  "kernelspec": {
   "display_name": "Python 3",
   "language": "python",
   "name": "python3"
  },
  "language_info": {
   "codemirror_mode": {
    "name": "ipython",
    "version": 3
   },
   "file_extension": ".py",
   "mimetype": "text/x-python",
   "name": "python",
   "nbconvert_exporter": "python",
   "pygments_lexer": "ipython3",
   "version": "3.5.2"
  }
 },
 "nbformat": 4,
 "nbformat_minor": 2
}
