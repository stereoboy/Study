{
 "cells": [
  {
   "cell_type": "markdown",
   "metadata": {},
   "source": [
    "## Add two numbers represented by linked lists"
   ]
  },
  {
   "cell_type": "code",
   "execution_count": 1,
   "metadata": {
    "collapsed": true
   },
   "outputs": [],
   "source": [
    "class Node():\n",
    "    def __init__(self, value, Next=None):\n",
    "        self.value = value\n",
    "        self.next = Next\n",
    "    def __str__(self):\n",
    "        if self.next == None:\n",
    "            return str(self.value)\n",
    "        return str(self.value) + '-' + self.next.__str__()"
   ]
  },
  {
   "cell_type": "code",
   "execution_count": 12,
   "metadata": {},
   "outputs": [
    {
     "name": "stdout",
     "output_type": "stream",
     "text": [
      "5 0\n",
      "0 1\n",
      "4 1\n",
      "3 0\n",
      "1 0\n",
      "1-3-4-0-5\n"
     ]
    }
   ],
   "source": [
    "def getSize(node):\n",
    "    count = 0\n",
    "    while node != None:\n",
    "        count += 1\n",
    "        node = node.next\n",
    "    return count\n",
    "        \n",
    "def _add(node0, size0, node1, size1):\n",
    "    \n",
    "    if node0 == None:\n",
    "        return None, 0\n",
    "    \n",
    "    if size0 > size1:\n",
    "        node, carry = _add(node0.next, size0 - 1, node1, size1)\n",
    "    \n",
    "        new = node0.value + carry\n",
    "    else:\n",
    "        node, carry = _add(node0.next, size0 - 1, node1.next, size1 -1)\n",
    "        \n",
    "        new = node0.value + node1.value + carry\n",
    "    \n",
    "    carry = new//10        \n",
    "    new = new%10\n",
    "    print(new, carry)\n",
    "    return Node(new, node), carry\n",
    "\n",
    "def add(node0, size0, node1, size1):\n",
    "    \n",
    "    node, carry = _add(node0, size0, node1, size1)\n",
    "    if carry > 0:\n",
    "        node = Node(1, node)\n",
    "    \n",
    "    return node\n",
    "\n",
    "a = Node(1, Node(2, Node(5, Node(6, Node(3, None)))))\n",
    "b = Node(8, Node(4, Node(2, None)))\n",
    "\n",
    "print(add(a, getSize(a), b, getSize(b)))"
   ]
  },
  {
   "cell_type": "markdown",
   "metadata": {},
   "source": [
    "## 2.1 Remove Dups: \n",
    "Write code to remove duplicates from an unsorted linked list.\n",
    "FOLLOW UP\n",
    "How would you solve this problem if a temporary buffer is not allowed?"
   ]
  },
  {
   "cell_type": "code",
   "execution_count": 24,
   "metadata": {},
   "outputs": [
    {
     "name": "stdout",
     "output_type": "stream",
     "text": [
      "input:1-2-3-4-4-4-3-2-1\n",
      "output:1-2-3-4\n"
     ]
    }
   ],
   "source": [
    "        \n",
    "List = Node(1, Node(2, Node(3, Node(4, Node(4, Node(4, Node(3, Node(2, Node(1)))))))))\n",
    "\n",
    "def remove_dups(List):\n",
    "    marks = {}\n",
    "    cur = List\n",
    "    prev = None\n",
    "    while cur != None:\n",
    "        if marks.get(cur.value, 0) == 0: # not duplicated\n",
    "            marks[cur.value] = 1\n",
    "        else: # duplicated\n",
    "            prev.next = cur.next\n",
    "            cur = prev\n",
    "                \n",
    "        prev = cur\n",
    "        cur = cur.next\n",
    "\n",
    "print('input:' + str(List))\n",
    "remove_dups(List)\n",
    "print('output:' + str(List))"
   ]
  },
  {
   "cell_type": "code",
   "execution_count": 34,
   "metadata": {},
   "outputs": [
    {
     "name": "stdout",
     "output_type": "stream",
     "text": [
      "input:1-2-3-4-4-4-3-2-1-3-2\n",
      "output:1-2-3-4\n"
     ]
    }
   ],
   "source": [
    "def remove_dups_wo_buffer(List):\n",
    "    cur0 = List\n",
    "    while cur0 != None:\n",
    "        prev = cur0\n",
    "        cur1 = cur0.next\n",
    "        while cur1 != None:\n",
    "            if cur1.value == cur0.value:\n",
    "                prev.next = cur1.next\n",
    "                cur1 = prev\n",
    "            prev = cur1\n",
    "            cur1 = cur1.next\n",
    "        \n",
    "        cur0 = cur0.next\n",
    "        \n",
    "List = Node(1, Node(2, Node(3, Node(4, Node(4, Node(4, Node(3, Node(2, Node(1, Node(3, Node(2)))))))))))\n",
    "\n",
    "print('input:' + str(List))\n",
    "remove_dups_wo_buffer(List)\n",
    "print('output:' + str(List))"
   ]
  },
  {
   "cell_type": "markdown",
   "metadata": {},
   "source": [
    "## 2.2 Return Kth to Last: \n",
    "Implement an algorithm to find the kth to last element of a singly linked list."
   ]
  },
  {
   "cell_type": "code",
   "execution_count": 37,
   "metadata": {},
   "outputs": [
    {
     "name": "stdout",
     "output_type": "stream",
     "text": [
      "2\n"
     ]
    }
   ],
   "source": [
    "List = Node(1, Node(2, Node(3, Node(4, Node(4, Node(4, Node(3, Node(2, Node(1, Node(3, Node(2)))))))))))\n",
    "\n",
    "def kth_to_last(List, k):\n",
    "    cur = List\n",
    "    size = 0\n",
    "    while cur != None:\n",
    "        size += 1\n",
    "        cur = cur.next\n",
    "    if size < k:\n",
    "        return None\n",
    "    \n",
    "    cur = List\n",
    "    for _ in range(size - k):\n",
    "        cur = cur.next\n",
    "    return cur.value\n",
    "\n",
    "print(kth_to_last(List, 4))"
   ]
  },
  {
   "cell_type": "code",
   "execution_count": 40,
   "metadata": {},
   "outputs": [
    {
     "name": "stdout",
     "output_type": "stream",
     "text": [
      "2-1-3-2\n"
     ]
    }
   ],
   "source": [
    "def kth_to_last(head, k, i):\n",
    "\n",
    "    if head == None:\n",
    "        return None\n",
    "    \n",
    "    node = kth_to_last(head.next, k, i)\n",
    "    i[0] = i[0] + 1\n",
    "    if i[0] == k:\n",
    "        return head\n",
    "    else:\n",
    "        return node\n",
    "    \n",
    "print(kth_to_last(List, 4, [0]))"
   ]
  },
  {
   "cell_type": "code",
   "execution_count": null,
   "metadata": {
    "collapsed": true
   },
   "outputs": [],
   "source": []
  }
 ],
 "metadata": {
  "kernelspec": {
   "display_name": "Python 3",
   "language": "python",
   "name": "python3"
  },
  "language_info": {
   "codemirror_mode": {
    "name": "ipython",
    "version": 3
   },
   "file_extension": ".py",
   "mimetype": "text/x-python",
   "name": "python",
   "nbconvert_exporter": "python",
   "pygments_lexer": "ipython3",
   "version": "3.5.2"
  }
 },
 "nbformat": 4,
 "nbformat_minor": 2
}
