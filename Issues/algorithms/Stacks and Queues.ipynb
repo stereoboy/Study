{
 "cells": [
  {
   "cell_type": "markdown",
   "metadata": {},
   "source": [
    "## 3.1 Three in One: \n",
    "Describe how you could use a single array to implement three stacks."
   ]
  },
  {
   "cell_type": "code",
   "execution_count": null,
   "metadata": {
    "collapsed": true
   },
   "outputs": [],
   "source": []
  },
  {
   "cell_type": "markdown",
   "metadata": {},
   "source": [
    "## 3.2 Stack Min: \n",
    "How would you design a stack which, in addition to push and pop, has a function min which returns the minimum element? Push, pop and min should all operate in 0(1) time."
   ]
  },
  {
   "cell_type": "code",
   "execution_count": 28,
   "metadata": {},
   "outputs": [
    {
     "name": "stdout",
     "output_type": "stream",
     "text": [
      "\n",
      "9223372036854775807\n",
      "(19, 19)\n",
      "19\n",
      "(19, 19),(10, 10)\n",
      "10\n",
      "(19, 19),(10, 10),(1, 1)\n",
      "1\n",
      "(19, 19),(10, 10)\n",
      "10\n",
      "(19, 19)\n",
      "19\n"
     ]
    }
   ],
   "source": [
    "import sys\n",
    "capacity = 30\n",
    "\n",
    "class Stack():\n",
    "    def __init__(self, capacity):\n",
    "        self.last = -1\n",
    "        self.capacity = capacity\n",
    "        self.mem = [(0, 0) for _ in range(capacity)]\n",
    "\n",
    "    def push(self, value):\n",
    "        if self.last < capacity - 1:\n",
    "            min_val = min(self.min(), value)\n",
    "            self.last += 1\n",
    "            self.mem[self.last] = (value, min_val) \n",
    "\n",
    "    def min(self):\n",
    "        if self.last == -1:\n",
    "            return sys.maxsize\n",
    "        else:\n",
    "            value, min_val = self.mem[self.last]\n",
    "            \n",
    "            return min_val\n",
    "                                   \n",
    "    def pop(self):\n",
    "        if self.last == -1:\n",
    "            value = None\n",
    "        else:\n",
    "            value, _ = self.mem[self.last]\n",
    "            self.last -= 1\n",
    "        return value\n",
    "    \n",
    "    def __str__(self):\n",
    "        out_ch_list = [str(self.mem[i])for i in range(self.last + 1)]\n",
    "        return \",\".join(out_ch_list)\n",
    "    \n",
    "stack = Stack(capacity)\n",
    "print(stack)\n",
    "print(stack.min())\n",
    "stack.push(19)\n",
    "print(stack)\n",
    "print(stack.min())\n",
    "stack.push(10)\n",
    "print(stack)\n",
    "print(stack.min())\n",
    "stack.push(1)\n",
    "print(stack)\n",
    "print(stack.min())\n",
    "stack.pop()\n",
    "print(stack)\n",
    "print(stack.min())\n",
    "stack.pop()\n",
    "print(stack)\n",
    "print(stack.min())"
   ]
  },
  {
   "cell_type": "code",
   "execution_count": null,
   "metadata": {
    "collapsed": true
   },
   "outputs": [],
   "source": []
  }
 ],
 "metadata": {
  "kernelspec": {
   "display_name": "Python 3",
   "language": "python",
   "name": "python3"
  },
  "language_info": {
   "codemirror_mode": {
    "name": "ipython",
    "version": 3
   },
   "file_extension": ".py",
   "mimetype": "text/x-python",
   "name": "python",
   "nbconvert_exporter": "python",
   "pygments_lexer": "ipython3",
   "version": "3.5.2"
  }
 },
 "nbformat": 4,
 "nbformat_minor": 2
}
