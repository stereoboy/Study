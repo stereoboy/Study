{
 "cells": [
  {
   "cell_type": "markdown",
   "metadata": {},
   "source": [
    "## 5.1 Insertion:\n",
    "You are given two 32-bit numbers, N and M, and two bit positions, i and j. Write a method\n",
    "to insert M into N such that M starts at bit j and ends at bit i. You can assume that the bits j through\n",
    "i have enough space to fit all of M. That is, if M = 10011, you can assume that there are at least 5\n",
    "bits between j and i. You would not, for example, have j = 3 and i = 2, because M could not fully\n",
    "fit between bit 3 and bit 2."
   ]
  },
  {
   "cell_type": "code",
   "execution_count": 26,
   "metadata": {},
   "outputs": [
    {
     "name": "stdout",
     "output_type": "stream",
     "text": [
      "0b11111111111111111111111111111111\n",
      "left_mask:0b11111111111111111111111111111111000000\n",
      "0b11111111111111111111111111111111000111\n",
      "0b101000\n",
      "0b1111000000101111\n",
      "0b1111000000101111\n"
     ]
    }
   ],
   "source": [
    "bit = 0xFFFF\n",
    "\n",
    "M = 0x5\n",
    "N = 0xF00F\n",
    "\n",
    "def insertion(M, N, i, j):\n",
    "    ALL = 0xFFFFFFFF\n",
    "    left_mask = ALL << j + 1\n",
    "    print(bin(ALL))\n",
    "    print(\"left_mask:\" + bin(left_mask))\n",
    "    right_mask = ALL >> (32 - i)\n",
    "    \n",
    "    mask = left_mask|right_mask\n",
    "    print(bin(mask))\n",
    "    \n",
    "    M_ = (M << i)\n",
    "    ret = (N&mask) | M_\n",
    "    \n",
    "    print(bin(M_))\n",
    "    print(bin(ret))\n",
    "\n",
    "\n",
    "    return ret\n",
    "\n",
    "print(bin(insertion(M, N, 3, 5)))"
   ]
  },
  {
   "cell_type": "markdown",
   "metadata": {},
   "source": [
    "## 5.2 Binary to String: \n",
    "Given a real number between 0 and 1 (e.g., 0.72) that is passed in as a double, print the binary representation. If the number cannot be represented accurately in binary with at most 32 characters, print\"ERROR:'"
   ]
  },
  {
   "cell_type": "code",
   "execution_count": 46,
   "metadata": {},
   "outputs": [
    {
     "name": "stdout",
     "output_type": "stream",
     "text": [
      "0.375 0.5\n",
      "0.125 0.25\n",
      "0.0 0.125\n",
      "0.111\n"
     ]
    }
   ],
   "source": [
    "def bin_to_str(number):\n",
    "    \n",
    "    strs = []\n",
    "    remain = number\n",
    "    for i in range(1, 31):\n",
    "        if remain == 0:\n",
    "            break\n",
    "        elif remain - 0.5**i >= 0:\n",
    "            remain = remain - 0.5**i\n",
    "            strs.append(str(1))\n",
    "        else:\n",
    "            strs.append(str(0))\n",
    "            \n",
    "        print(remain, 0.5**i)\n",
    "        \n",
    "    \n",
    "    if remain > 0:\n",
    "        return \"ERROR\"\n",
    "    else:\n",
    "        return \"0.\" + \"\".join(strs)\n",
    "\n",
    "print(bin_to_str(0.875))\n",
    "    "
   ]
  },
  {
   "cell_type": "code",
   "execution_count": null,
   "metadata": {
    "collapsed": true
   },
   "outputs": [],
   "source": []
  }
 ],
 "metadata": {
  "kernelspec": {
   "display_name": "Python 3",
   "language": "python",
   "name": "python3"
  },
  "language_info": {
   "codemirror_mode": {
    "name": "ipython",
    "version": 3
   },
   "file_extension": ".py",
   "mimetype": "text/x-python",
   "name": "python",
   "nbconvert_exporter": "python",
   "pygments_lexer": "ipython3",
   "version": "3.5.2"
  }
 },
 "nbformat": 4,
 "nbformat_minor": 2
}
