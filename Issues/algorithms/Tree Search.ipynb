{
 "cells": [
  {
   "cell_type": "markdown",
   "metadata": {},
   "source": [
    "## Diameter of a Binary Tree"
   ]
  },
  {
   "cell_type": "code",
   "execution_count": 9,
   "metadata": {
    "collapsed": true
   },
   "outputs": [],
   "source": [
    "class Node():\n",
    "    def __init__(self, value):\n",
    "        self.value = value\n",
    "        self.left = None\n",
    "        self.right = None\n",
    "        self.p = None\n",
    "    def __str__(self):\n",
    "        return \"(\" + str(self.value) + \")-\""
   ]
  },
  {
   "cell_type": "code",
   "execution_count": 3,
   "metadata": {},
   "outputs": [
    {
     "name": "stdout",
     "output_type": "stream",
     "text": [
      "3\n",
      "4\n"
     ]
    }
   ],
   "source": [
    "def height(node):\n",
    "    if node is None:\n",
    "        return 0\n",
    "    \n",
    "    lheight = height(node.left)\n",
    "    rheight = height(node.right)\n",
    "    \n",
    "    return 1 + max(lheight, rheight)\n",
    "    \n",
    "def diameter(node):\n",
    "    if node is None:\n",
    "        return 0\n",
    "    \n",
    "    lh = height(node.left)\n",
    "    rh = height(node.right)\n",
    "    \n",
    "    ldiameter = diameter(node.left)\n",
    "    rdiameter = diameter(node.right)\n",
    "    \n",
    "    return max(lh + rh + 1, max(ldiameter, rdiameter))\n",
    "    \n",
    "root = Node(1)\n",
    "root.left = Node(2)\n",
    "root.right = Node(3)\n",
    "root.left.left = Node(4)\n",
    "root.left.right = Node(5)\n",
    "\n",
    "\n",
    "print(height(root))\n",
    "\n",
    "print(diameter(root))"
   ]
  },
  {
   "cell_type": "markdown",
   "metadata": {
    "collapsed": true
   },
   "source": [
    "## Basic Operation\n",
    "\n"
   ]
  },
  {
   "cell_type": "code",
   "execution_count": 30,
   "metadata": {},
   "outputs": [
    {
     "name": "stdout",
     "output_type": "stream",
     "text": [
      "node((6)-\n",
      "insert at left:(5)-\n",
      "node((6)-\n",
      "insert at right:(7)-\n",
      "node((7)-\n",
      "insert at right:(8)-\n",
      "node((5)-\n",
      "insert at left:(2)-\n",
      "node((5)-\n",
      "insert at right:(5)-\n",
      "[[[(2)](5)[(5)]](6)[(7)[(8)]]]"
     ]
    }
   ],
   "source": [
    "def inorder(node):\n",
    "    if node is not None:\n",
    "        print(\"[\", end='')\n",
    "        inorder(node.left)\n",
    "        print(\"(\" + str(node.value) + \")\", end='')\n",
    "        inorder(node.right)\n",
    "        print(\"]\", end='')\n",
    "        \n",
    "def insert(root, node):\n",
    "    \n",
    "    p = None\n",
    "    cur = root\n",
    "    while cur != None:\n",
    "        p = cur\n",
    "        if node.value < cur.value:\n",
    "            cur = cur.left\n",
    "        else:\n",
    "            cur = cur.right\n",
    "    print(\"node(\" + str(p))\n",
    "    if node.value < p.value:\n",
    "        p.left = node\n",
    "        print(\"insert at left:\" + str(node))\n",
    "    else:\n",
    "        p.right = node\n",
    "        print(\"insert at right:\" + str(node))\n",
    "    node.p = p\n",
    "        \n",
    "root = Node(6)\n",
    "\n",
    "insert(root, Node(5))\n",
    "insert(root, Node(7))\n",
    "insert(root, Node(8))\n",
    "insert(root, Node(2))\n",
    "insert(root, Node(5))\n",
    "\n",
    "inorder(root)\n",
    "        \n",
    "              "
   ]
  },
  {
   "cell_type": "code",
   "execution_count": 31,
   "metadata": {},
   "outputs": [
    {
     "name": "stdout",
     "output_type": "stream",
     "text": [
      "node((15)-\n",
      "insert at left:(6)-\n",
      "node((15)-\n",
      "insert at right:(18)-\n",
      "node((18)-\n",
      "insert at left:(17)-\n",
      "node((18)-\n",
      "insert at right:(20)-\n",
      "node((6)-\n",
      "insert at left:(3)-\n",
      "node((3)-\n",
      "insert at left:(2)-\n",
      "node((3)-\n",
      "insert at right:(4)-\n",
      "node((6)-\n",
      "insert at right:(7)-\n",
      "node((7)-\n",
      "insert at right:(13)-\n",
      "node((13)-\n",
      "insert at left:(9)-\n",
      "[[[[(2)](3)[(4)]](6)[(7)[[(9)](13)]]](15)[[(17)](18)[(20)]]]\n",
      "(13)-\n",
      "(15)-\n"
     ]
    }
   ],
   "source": [
    "def minimum(node):\n",
    "    cur = node\n",
    "    while cur.left != None:\n",
    "        cur = cur.left\n",
    "    return cur\n",
    "\n",
    "def search(node, value):\n",
    "    cur = node\n",
    "    while cur != None:\n",
    "        if value == cur.value:\n",
    "            return cur\n",
    "        elif value < cur.value: \n",
    "            cur = cur.left\n",
    "        else:\n",
    "            cur = cur.right\n",
    "    return cur\n",
    "\n",
    "\n",
    "def successor(node):\n",
    "    if node.right != None:\n",
    "        return minimum(node)\n",
    "    \n",
    "    cur = node\n",
    "    p = node.p\n",
    "    while (p != None) and (cur == p.right):\n",
    "        cur = p\n",
    "        p = p.p\n",
    "    return p\n",
    "\n",
    "root = Node(15)\n",
    "\n",
    "insert(root, Node(6))\n",
    "insert(root, Node(18))\n",
    "insert(root, Node(17))\n",
    "insert(root, Node(20))\n",
    "insert(root, Node(3))\n",
    "insert(root, Node(2))\n",
    "insert(root, Node(4))\n",
    "insert(root, Node(7))\n",
    "insert(root, Node(13))\n",
    "insert(root, Node(9))\n",
    "\n",
    "inorder(root)\n",
    "\n",
    "target = search(root, 13)\n",
    "print()\n",
    "print(target)\n",
    "print(successor(target))"
   ]
  },
  {
   "cell_type": "code",
   "execution_count": 36,
   "metadata": {},
   "outputs": [
    {
     "name": "stdout",
     "output_type": "stream",
     "text": [
      "node((15)-\n",
      "insert at left:(6)-\n",
      "node((15)-\n",
      "insert at right:(18)-\n",
      "node((18)-\n",
      "insert at left:(17)-\n",
      "node((18)-\n",
      "insert at right:(20)-\n",
      "node((6)-\n",
      "insert at left:(3)-\n",
      "node((3)-\n",
      "insert at left:(2)-\n",
      "node((3)-\n",
      "insert at right:(4)-\n",
      "node((6)-\n",
      "insert at right:(7)-\n",
      "node((7)-\n",
      "insert at right:(13)-\n",
      "node((13)-\n",
      "insert at left:(9)-\n",
      "1 2\n",
      "2 3\n",
      "3 4\n",
      "4 6\n",
      "!\n",
      "(6)-\n"
     ]
    }
   ],
   "source": [
    "def kth_small(node, k, i):\n",
    "    if node != None:\n",
    "        retNode = kth_small(node.left, k, i)\n",
    "        if retNode != None:\n",
    "            return retNode\n",
    "        i[0] = i[0] + 1\n",
    "        print(i[0], node.value)\n",
    "        if i[0] == k:\n",
    "            print(\"!\")\n",
    "            return node\n",
    "        retNode = kth_small(node.right, k, i)\n",
    "        if retNode != None:\n",
    "            return retNode\n",
    "        return retNode\n",
    "    else:\n",
    "        return None\n",
    "\n",
    "root = Node(15)\n",
    "insert(root, Node(6))\n",
    "insert(root, Node(18))\n",
    "insert(root, Node(17))\n",
    "insert(root, Node(20))\n",
    "insert(root, Node(3))\n",
    "insert(root, Node(2))\n",
    "insert(root, Node(4))\n",
    "insert(root, Node(7))\n",
    "insert(root, Node(13))\n",
    "insert(root, Node(9))\n",
    "\n",
    "print(kth_small(root, 4, [0]))"
   ]
  },
  {
   "cell_type": "code",
   "execution_count": null,
   "metadata": {},
   "outputs": [],
   "source": [
    "ret = None\n",
    "count = 0\n",
    "def kth_small2(node, k):\n",
    "    global count\n",
    "    global ret\n",
    "    if node != None:\n",
    "        retNode = kth_small2(node.left, k)\n",
    "        if ret != None:\n",
    "            return\n",
    "        count += 1\n",
    "        print(count, node.value)\n",
    "        if count == k:\n",
    "            print(\"!\")\n",
    "            ret = node\n",
    "            return\n",
    "        retNode = kth_small2(node.right, k)\n",
    "        if ret != None:\n",
    "            return\n",
    "        return\n",
    "    else:\n",
    "        return\n",
    "    \n",
    "print(kth_small2(root, 4))\n",
    "print(ret)"
   ]
  },
  {
   "cell_type": "code",
   "execution_count": null,
   "metadata": {
    "collapsed": true
   },
   "outputs": [],
   "source": []
  }
 ],
 "metadata": {
  "kernelspec": {
   "display_name": "Python 3",
   "language": "python",
   "name": "python3"
  },
  "language_info": {
   "codemirror_mode": {
    "name": "ipython",
    "version": 3
   },
   "file_extension": ".py",
   "mimetype": "text/x-python",
   "name": "python",
   "nbconvert_exporter": "python",
   "pygments_lexer": "ipython3",
   "version": "3.5.2"
  }
 },
 "nbformat": 4,
 "nbformat_minor": 2
}
