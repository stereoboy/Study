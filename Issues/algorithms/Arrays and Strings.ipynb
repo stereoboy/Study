{
 "cells": [
  {
   "cell_type": "markdown",
   "metadata": {},
   "source": [
    "## Is Unique\n",
    "Is Unique: Implement an algorithm to determine if a string has all unique characters. What if you cannot use additional data structures?"
   ]
  },
  {
   "cell_type": "code",
   "execution_count": 136,
   "metadata": {},
   "outputs": [
    {
     "name": "stdout",
     "output_type": "stream",
     "text": [
      "LAzLzB\n"
     ]
    }
   ],
   "source": [
    "import random\n",
    "\n",
    "#STR = random.uniform(('a').encode('ascii'), int('Z'))\n",
    "#print(ord('A'))\n",
    "#print(ord('z'))\n",
    "#lowercase = [ chr(char) for char in range(ord('a'), ord('z') + 1)]\n",
    "#uppercase = [ chr(char) for char in range(ord('A'), ord('Z') + 1)]\n",
    "#string_seed = lowercase + uppercase\n",
    "#print(string_seed)\n",
    "\n",
    "def gen_randstr():\n",
    "    size = random.randint(0, 100)\n",
    "    return \"\".join((random.choice(string_seed) for _ in range(size)))\n",
    "\n",
    "random_string = gen_randstr()\n",
    "print(random_string)"
   ]
  },
  {
   "cell_type": "code",
   "execution_count": 137,
   "metadata": {},
   "outputs": [
    {
     "name": "stdout",
     "output_type": "stream",
     "text": [
      "not unique z at 4\n",
      "False\n"
     ]
    }
   ],
   "source": [
    "def isUnique(input_string):\n",
    "    marks = [False for _ in range(256)]\n",
    "    for i in range(1, len(input_string)):\n",
    "        char = ord(input_string[i])\n",
    "        if marks[char] == True:\n",
    "            print(\"not unique {} at {}\".format(input_string[i], i))\n",
    "            return False\n",
    "        else:\n",
    "            marks[char] = True\n",
    "    return True\n",
    "\n",
    "print(isUnique(random_string))"
   ]
  },
  {
   "cell_type": "markdown",
   "metadata": {},
   "source": [
    "## Check Permutation\n",
    "Check Permutation: Given two strings, write a method to decide if one is a permutation of the other."
   ]
  },
  {
   "cell_type": "code",
   "execution_count": 138,
   "metadata": {},
   "outputs": [
    {
     "name": "stdout",
     "output_type": "stream",
     "text": [
      "qogCOnRKIGrwRhdaXPsekfw\n",
      "aIneCPgqOGwwXskrfKRRodh\n",
      "BBDDDEEFFGHHHIJKLLMNPPPPPQQSSSTUUUUVVWXXZZabcceffgghhiiiijkkkpqqrtuuvvwwwwzz\n",
      "AKkwy\n",
      "Test#1: Pass\n",
      "CGIKOPRRXadefghknoqrsww\n",
      "CGIKOPRRXadefghknoqrsww\n",
      "Test#2: Pass\n"
     ]
    }
   ],
   "source": [
    "def str_shuffle(str):\n",
    "    str_list = list(str)\n",
    "    random.shuffle(str_list)\n",
    "    return \"\".join(str_list)\n",
    "\n",
    "\n",
    "str0 = gen_randstr()\n",
    "str1 = gen_randstr()\n",
    "\n",
    "str2 = gen_randstr()\n",
    "str3 = str_shuffle(str2[:])\n",
    "print(str2)\n",
    "print(str3)\n",
    "\n",
    "\n",
    "def check_permutation(str0, str1):\n",
    "    str0_ = \"\".join(sorted(str0))\n",
    "    str1_ = \"\".join(sorted(str1))\n",
    "    print(str0_)\n",
    "    print(str1_)\n",
    "    if len(str0_) != len(str1_):\n",
    "        return False\n",
    "    \n",
    "    for i in range(len(str0_)):\n",
    "        if str0_[i] != str1_[i]:\n",
    "            print(i)\n",
    "            return False\n",
    "        \n",
    "    return True\n",
    "\n",
    "print(\"Test#1: %s\"%(\"Pass\" if False == check_permutation(str0, str1) else \"Fail\"))\n",
    "print(\"Test#2: %s\"%(\"Pass\" if True == check_permutation(str2, str3) else 'Fail'))"
   ]
  },
  {
   "cell_type": "markdown",
   "metadata": {},
   "source": [
    "## Palindrome Permutation: \n",
    "Given a string, write a function to check if it is a permutation of a palindrome. A palindrome is a word or phrase that is the same forwards and backwards. A permutation is a rearrangement of letters. The palindrome does not need to be limited to just dictionary words."
   ]
  },
  {
   "cell_type": "code",
   "execution_count": 139,
   "metadata": {},
   "outputs": [
    {
     "name": "stdout",
     "output_type": "stream",
     "text": [
      "Test#1: Pass\n",
      "Test#2: Pass\n"
     ]
    }
   ],
   "source": [
    "def check_palindrome(str0):\n",
    "    size = len(str0)\n",
    "    for i in range(size):\n",
    "        if str0[i] != str0[size - 1 - i]:\n",
    "            return False\n",
    "    return True\n",
    "\n",
    "str0 = \"AAAABBBBAAAA\"\n",
    "str1 = \"AAAAAAAAABBB\"\n",
    "\n",
    "print(\"Test#1: %s\"%(\"Pass\" if True == check_palindrome(str0) else \"Fail\"))\n",
    "print(\"Test#2: %s\"%(\"Pass\" if False == check_palindrome(str1) else \"Fail\"))"
   ]
  },
  {
   "cell_type": "markdown",
   "metadata": {},
   "source": [
    "## Palindrome Permutation\n",
    "Given a string, write a function to check if it is a permutation of a palindrome. A palindrome is a word or phrase that is the same forwards and backwards. A permutation is a rearrangement of letters. The palindrome does not need to be limited to just dictionary words."
   ]
  },
  {
   "cell_type": "code",
   "execution_count": 140,
   "metadata": {},
   "outputs": [
    {
     "name": "stdout",
     "output_type": "stream",
     "text": [
      "Test#1: Pass\n",
      "Test#2: Pass\n"
     ]
    }
   ],
   "source": [
    "def check_palindrome_permutation(str0):\n",
    "    \n",
    "    str0 = str0.lower()\n",
    "    histogram = {}\n",
    "    for ch in str0:\n",
    "        if ch != ' ':\n",
    "            histogram[ch] = histogram.get(ch, 0) + 1\n",
    "            \n",
    "    # check one odd entries\n",
    "    found_odd = False\n",
    "    for ch, value in histogram.items():\n",
    "        if value%2 == 1:\n",
    "            if found_odd:\n",
    "                return False\n",
    "            found_odd = True\n",
    "            \n",
    "    return True\n",
    "\n",
    "print(\"Test#1: %s\"%(\"Pass\" if True == check_palindrome_permutation('Tact Coa') else \"Fail\"))\n",
    "print(\"Test#2: %s\"%(\"Pass\" if False == check_palindrome_permutation('AAABBBCCC') else \"Fail\"))"
   ]
  },
  {
   "cell_type": "markdown",
   "metadata": {},
   "source": [
    "## One Away: \n",
    "There are three types of edits that can be performed on strings: insert a character,remove a character, or replace a character. Given two strings, write a function to check if they are one edit (or zero edits) away."
   ]
  },
  {
   "cell_type": "code",
   "execution_count": 141,
   "metadata": {},
   "outputs": [
    {
     "name": "stdout",
     "output_type": "stream",
     "text": [
      "Test#1: Pass\n",
      "Test#2: Pass\n",
      "Test#3: Pass\n",
      "Test#4: Pass\n",
      "Test#4: Pass\n"
     ]
    }
   ],
   "source": [
    "def check_same(str0, str1):\n",
    "    if len(str0) != len(str1):\n",
    "        return False\n",
    "    for i in range(len(str0)):\n",
    "        if str0[i] != str1[i]:\n",
    "            return False\n",
    "    return True\n",
    "\n",
    "def check_oneaway(str0, str1):\n",
    "        \n",
    "    for i in range(len(str0)):\n",
    "        if (i < len(str1) and str0[i] != str1[i]) or i > (len(str1) - 1):\n",
    "\n",
    "            if check_same(str0[i + 1:], str1[i:]):\n",
    "                # remove\n",
    "                return True\n",
    "            if check_same(str0[i:],str1[i + 1:]):\n",
    "                # insert\n",
    "                return True\n",
    "            if check_same(str0[i+1:], str1[i+1:]):\n",
    "                # replace\n",
    "                return True\n",
    "            return False\n",
    "    return False\n",
    "\n",
    "\n",
    "print(\"Test#1: %s\"%(\"Pass\" if True == check_oneaway(\"pale\", \"ple\") else \"Fail\"))\n",
    "print(\"Test#2: %s\"%(\"Pass\" if True == check_oneaway(\"pales\", \"pale\") else \"Fail\"))\n",
    "print(\"Test#3: %s\"%(\"Pass\" if True == check_oneaway(\"pale\", \"bale\") else \"Fail\"))\n",
    "print(\"Test#4: %s\"%(\"Pass\" if False == check_oneaway(\"pale\", \"bake\") else \"Fail\"))\n",
    "print(\"Test#4: %s\"%(\"Pass\" if False == check_oneaway(\"AAAAABBBBBBBBB\", \"AAAAABBBB\") else \"Fail\"))"
   ]
  },
  {
   "cell_type": "markdown",
   "metadata": {},
   "source": [
    "## String Compression: \n",
    "Implement a method to perform basic string compression using the counts of repeated characters. For example, the string aabcccccaaa would become a2b1c5a3. If the \"compressed\" string would not become smaller than the original string, your method should return the original string. You can assume the string has only uppercase and lowercase letters (a - z)."
   ]
  },
  {
   "cell_type": "code",
   "execution_count": 142,
   "metadata": {},
   "outputs": [
    {
     "name": "stdout",
     "output_type": "stream",
     "text": [
      "Test#1: Pass\n",
      "Test#2: Pass\n",
      "Test#3: Pass\n"
     ]
    }
   ],
   "source": [
    "def _string_compression(str0):\n",
    "    dest = \"\"\n",
    "    cur_ch = str0[0]\n",
    "    count = 0\n",
    "    for i in range(len(str0)):\n",
    "        if cur_ch == str0[i]:\n",
    "            count += 1\n",
    "        else:\n",
    "            dest += cur_ch\n",
    "            dest += str(count)\n",
    "            cur_ch = str0[i]\n",
    "            count = 1\n",
    "    dest += cur_ch\n",
    "    dest += str(count)\n",
    "    cur_ch = str0[i]\n",
    "    count = 0\n",
    "\n",
    "\n",
    "    return dest\n",
    "     \n",
    "def string_compression(str0):\n",
    "    str_ = _string_compression(str0)\n",
    "    if len(str_) < len(str0):\n",
    "        return str_\n",
    "    else:\n",
    "        return str0\n",
    "print(\"Test#1: %s\"%(\"Pass\" if \"A4B5C3\" == string_compression(\"AAAABBBBBCCC\") else \"Fail\"))\n",
    "print(\"Test#2: %s\"%(\"Pass\" if \"ABCDEF\" == string_compression(\"ABCDEF\") else \"Fail\"))\n",
    "print(\"Test#3: %s\"%(\"Pass\" if \"a2b1c5a3\" == string_compression(\"aabcccccaaa\") else \"Fail\"))"
   ]
  },
  {
   "cell_type": "markdown",
   "metadata": {},
   "source": [
    "## Rotate Matrix: \n",
    "Given an image represented by an NxN matrix, where each pixel in the image is 4 bytes, write a method to rotate the image by 90 degrees. Can you do this in place?"
   ]
  },
  {
   "cell_type": "code",
   "execution_count": null,
   "metadata": {
    "collapsed": true
   },
   "outputs": [],
   "source": []
  },
  {
   "cell_type": "markdown",
   "metadata": {},
   "source": [
    "## Zero Matrix: \n",
    "Write an algorithm such that if an element in an MxN matrix is 0, its entire row and column are set to 0."
   ]
  },
  {
   "cell_type": "code",
   "execution_count": 143,
   "metadata": {},
   "outputs": [
    {
     "name": "stdout",
     "output_type": "stream",
     "text": [
      "[[16  5 18  5 16  8 17 10 13 14]\n",
      " [10  6  2  2  1 13 19  3 11  2]\n",
      " [15 16  1  4  2 15  9  7  7  7]\n",
      " [ 3 13  6 10 10 15 16  3 13  8]\n",
      " [14  5  0 18  6 17 14  3 18 16]\n",
      " [18  2  7 16  4 18 12 15 18 11]\n",
      " [ 3  0 19  7  1  4  9 19  3  7]\n",
      " [ 2  8 16 17  5  5  9 11  9  7]\n",
      " [18 19  0 15  3  5  6 17  1  8]\n",
      " [15 12 14 13 11  1 14 13  2 12]]\n",
      "[[16  0  0  5 16  8 17 10 13 14]\n",
      " [10  0  0  2  1 13 19  3 11  2]\n",
      " [15  0  0  4  2 15  9  7  7  7]\n",
      " [ 3  0  0 10 10 15 16  3 13  8]\n",
      " [ 0  0  0  0  0  0  0  0  0  0]\n",
      " [18  0  0 16  4 18 12 15 18 11]\n",
      " [ 0  0  0  0  0  0  0  0  0  0]\n",
      " [ 2  0  0 17  5  5  9 11  9  7]\n",
      " [ 0  0  0  0  0  0  0  0  0  0]\n",
      " [15  0  0 13 11  1 14 13  2 12]]\n"
     ]
    }
   ],
   "source": [
    "import numpy as np\n",
    "\n",
    "matrix = np.random.randint(0, 20, (10,10))\n",
    "print(matrix)\n",
    "\n",
    "def set_matrix_zero(mat):\n",
    "    \n",
    "    zero_rows = []\n",
    "    zero_cols = []\n",
    "    h, w = mat.shape\n",
    "    for i in range(h):\n",
    "        for j in range(w):\n",
    "            if mat[i][j] == 0:\n",
    "                zero_rows.append(i)\n",
    "                zero_cols.append(j)\n",
    "                \n",
    "    for row in zero_rows:\n",
    "        mat[row, :] = 0\n",
    "    for col in zero_cols:\n",
    "        mat[:, col] = 0\n",
    "        \n",
    "    return mat\n",
    "\n",
    "print(set_matrix_zero(matrix))"
   ]
  },
  {
   "cell_type": "code",
   "execution_count": null,
   "metadata": {
    "collapsed": true
   },
   "outputs": [],
   "source": []
  }
 ],
 "metadata": {
  "kernelspec": {
   "display_name": "Python 3",
   "language": "python",
   "name": "python3"
  },
  "language_info": {
   "codemirror_mode": {
    "name": "ipython",
    "version": 3
   },
   "file_extension": ".py",
   "mimetype": "text/x-python",
   "name": "python",
   "nbconvert_exporter": "python",
   "pygments_lexer": "ipython3",
   "version": "3.5.2"
  }
 },
 "nbformat": 4,
 "nbformat_minor": 2
}
