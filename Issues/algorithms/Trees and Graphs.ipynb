{
 "cells": [
  {
   "cell_type": "markdown",
   "metadata": {},
   "source": [
    "## 4.1 Route Between Nodes: \n",
    "Given a directed graph, design an algorithm to find out whether there is a route between two nodes."
   ]
  },
  {
   "cell_type": "code",
   "execution_count": 13,
   "metadata": {},
   "outputs": [
    {
     "name": "stdout",
     "output_type": "stream",
     "text": [
      "['A']\n",
      "{}\n",
      "['B', 'C', 'D']\n",
      "{}\n",
      "['C', 'D', 'E', 'C', 'D']\n",
      "True\n"
     ]
    }
   ],
   "source": [
    "Graph = {'A': ['B', 'C', 'D'], 'B': ['C', 'D', 'E'], 'C':['D', 'E', 'F'], 'D':['A', 'B']}\n",
    "\n",
    "def check_route(tree, node0, node1):\n",
    "    queue = []\n",
    "    queue.append(node0)\n",
    "    visits = {}\n",
    "    while len(queue) > 0:\n",
    "        print(queue)\n",
    "        cur = queue.pop(0)\n",
    "        dests = tree[cur]\n",
    "        \n",
    "        if node1 in dests:\n",
    "            return True\n",
    "        \n",
    " \n",
    "        if not visits.get(cur, False): # check already visiting\n",
    "            queue = tree[cur] + queue\n",
    "        else:\n",
    "            visits[cur] = True\n",
    "        print(visits)   \n",
    "    return False\n",
    "        \n",
    "print(check_route(Graph, 'A', 'F'))"
   ]
  },
  {
   "cell_type": "code",
   "execution_count": null,
   "metadata": {
    "collapsed": true
   },
   "outputs": [],
   "source": []
  },
  {
   "cell_type": "code",
   "execution_count": null,
   "metadata": {
    "collapsed": true
   },
   "outputs": [],
   "source": []
  }
 ],
 "metadata": {
  "kernelspec": {
   "display_name": "Python 3",
   "language": "python",
   "name": "python3"
  },
  "language_info": {
   "codemirror_mode": {
    "name": "ipython",
    "version": 3
   },
   "file_extension": ".py",
   "mimetype": "text/x-python",
   "name": "python",
   "nbconvert_exporter": "python",
   "pygments_lexer": "ipython3",
   "version": "3.5.2"
  }
 },
 "nbformat": 4,
 "nbformat_minor": 2
}
