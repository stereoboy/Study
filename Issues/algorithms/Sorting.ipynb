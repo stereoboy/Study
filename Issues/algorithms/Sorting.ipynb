{
 "cells": [
  {
   "cell_type": "code",
   "execution_count": 8,
   "metadata": {
    "scrolled": true
   },
   "outputs": [
    {
     "name": "stdout",
     "output_type": "stream",
     "text": [
      "[8, 28, 16, 3, 26, 6, 1, 22, 17, 18, 7, 4, 12, 15, 27, 24, 2, 14, 20, 25, 19, 13, 10, 9, 21, 11, 29, 5, 0, 23]\n"
     ]
    }
   ],
   "source": [
    "import random\n",
    "import sys\n",
    "from copy import copy\n",
    "\n",
    "def swap(s, i, j):\n",
    "    if i != j:\n",
    "        temp = s[i]\n",
    "        s[i] = s[j]\n",
    "        s[j] = temp\n",
    "        \n",
    "s = list(range(30))\n",
    "random.shuffle(s)\n",
    "print(s)"
   ]
  },
  {
   "cell_type": "markdown",
   "metadata": {},
   "source": [
    "## Selection Sort"
   ]
  },
  {
   "cell_type": "code",
   "execution_count": 10,
   "metadata": {},
   "outputs": [
    {
     "name": "stdout",
     "output_type": "stream",
     "text": [
      "[0, 1, 2, 3, 4, 5, 6, 7, 8, 9, 10, 11, 12, 13, 14, 15, 16, 17, 18, 19, 20, 21, 22, 23, 24, 25, 26, 27, 28, 29]\n"
     ]
    }
   ],
   "source": [
    "def selection_sort(s):\n",
    "    for i in range(len(s)):\n",
    "        minidx = i\n",
    "        for j in range(i + 1, len(s)):\n",
    "            if s[j] < s[minidx]:\n",
    "                minidx = j\n",
    "        swap(s, i, minidx)\n",
    "    return s\n",
    "\n",
    "print(selection_sort(copy(s)))"
   ]
  },
  {
   "cell_type": "markdown",
   "metadata": {},
   "source": [
    "## Insertion Sort"
   ]
  },
  {
   "cell_type": "code",
   "execution_count": 12,
   "metadata": {},
   "outputs": [
    {
     "name": "stdout",
     "output_type": "stream",
     "text": [
      "[0, 1, 2, 3, 4, 5, 6, 7, 8, 9, 10, 11, 12, 13, 14, 15, 16, 17, 18, 19, 20, 21, 22, 23, 24, 25, 26, 27, 28, 29]\n"
     ]
    }
   ],
   "source": [
    "def insertion_sort(s):\n",
    "    for i in range(1, len(s)):\n",
    "        cur = i\n",
    "        while cur > 0 and s[cur - 1] > s[cur]:\n",
    "            swap(s, cur - 1, cur)\n",
    "            cur = cur - 1\n",
    "\n",
    "    return s\n",
    "\n",
    "print(insertion_sort(copy(s)))"
   ]
  },
  {
   "cell_type": "markdown",
   "metadata": {},
   "source": [
    "## Quick Sort"
   ]
  },
  {
   "cell_type": "code",
   "execution_count": 13,
   "metadata": {},
   "outputs": [
    {
     "name": "stdout",
     "output_type": "stream",
     "text": [
      "[0, 1, 2, 3, 4, 5, 6, 7, 8, 9, 10, 11, 12, 13, 14, 15, 16, 17, 18, 19, 20, 21, 22, 23, 24, 25, 26, 27, 28, 29]\n"
     ]
    }
   ],
   "source": [
    "def partition(s, l, h):\n",
    "    pivot = h\n",
    "\n",
    "    first = l\n",
    "\n",
    "    for i in range(l, h):\n",
    "        if s[i] < s[pivot]:\n",
    "            swap(s, i, first)\n",
    "            first += 1\n",
    "\n",
    "    swap(s, first, pivot)\n",
    "    pivot = first\n",
    "    \n",
    "    return pivot\n",
    "\n",
    "def quick_sort(s, l, h):\n",
    "    if h > l:\n",
    "        pivot = partition(s, l, h)\n",
    "        quick_sort(s, l, pivot - 1)\n",
    "        quick_sort(s, pivot + 1, h)\n",
    "\n",
    "    return s\n",
    "\n",
    "print(quick_sort(copy(s), 0, len(s) - 1))"
   ]
  },
  {
   "cell_type": "markdown",
   "metadata": {},
   "source": [
    "## Bubble Sort"
   ]
  },
  {
   "cell_type": "code",
   "execution_count": 16,
   "metadata": {},
   "outputs": [
    {
     "name": "stdout",
     "output_type": "stream",
     "text": [
      "[8, 28, 16, 3, 26, 6, 1, 22, 17, 18, 7, 4, 12, 15, 27, 24, 2, 14, 20, 25, 19, 13, 10, 9, 21, 11, 29, 5, 0, 23]\n",
      "[0, 8, 28, 16, 3, 26, 6, 1, 22, 17, 18, 7, 4, 12, 15, 27, 24, 2, 14, 20, 25, 19, 13, 10, 9, 21, 11, 29, 5, 23]\n",
      "[0, 1, 8, 28, 16, 3, 26, 6, 2, 22, 17, 18, 7, 4, 12, 15, 27, 24, 5, 14, 20, 25, 19, 13, 10, 9, 21, 11, 29, 23]\n",
      "[0, 1, 2, 8, 28, 16, 3, 26, 6, 4, 22, 17, 18, 7, 5, 12, 15, 27, 24, 9, 14, 20, 25, 19, 13, 10, 11, 21, 23, 29]\n",
      "[0, 1, 2, 3, 8, 28, 16, 4, 26, 6, 5, 22, 17, 18, 7, 9, 12, 15, 27, 24, 10, 14, 20, 25, 19, 13, 11, 21, 23, 29]\n",
      "[0, 1, 2, 3, 4, 8, 28, 16, 5, 26, 6, 7, 22, 17, 18, 9, 10, 12, 15, 27, 24, 11, 14, 20, 25, 19, 13, 21, 23, 29]\n",
      "[0, 1, 2, 3, 4, 5, 8, 28, 16, 6, 26, 7, 9, 22, 17, 18, 10, 11, 12, 15, 27, 24, 13, 14, 20, 25, 19, 21, 23, 29]\n",
      "[0, 1, 2, 3, 4, 5, 6, 8, 28, 16, 7, 26, 9, 10, 22, 17, 18, 11, 12, 13, 15, 27, 24, 14, 19, 20, 25, 21, 23, 29]\n",
      "[0, 1, 2, 3, 4, 5, 6, 7, 8, 28, 16, 9, 26, 10, 11, 22, 17, 18, 12, 13, 14, 15, 27, 24, 19, 20, 21, 25, 23, 29]\n",
      "[0, 1, 2, 3, 4, 5, 6, 7, 8, 9, 28, 16, 10, 26, 11, 12, 22, 17, 18, 13, 14, 15, 19, 27, 24, 20, 21, 23, 25, 29]\n",
      "[0, 1, 2, 3, 4, 5, 6, 7, 8, 9, 10, 28, 16, 11, 26, 12, 13, 22, 17, 18, 14, 15, 19, 20, 27, 24, 21, 23, 25, 29]\n",
      "[0, 1, 2, 3, 4, 5, 6, 7, 8, 9, 10, 11, 28, 16, 12, 26, 13, 14, 22, 17, 18, 15, 19, 20, 21, 27, 24, 23, 25, 29]\n",
      "[0, 1, 2, 3, 4, 5, 6, 7, 8, 9, 10, 11, 12, 28, 16, 13, 26, 14, 15, 22, 17, 18, 19, 20, 21, 23, 27, 24, 25, 29]\n",
      "[0, 1, 2, 3, 4, 5, 6, 7, 8, 9, 10, 11, 12, 13, 28, 16, 14, 26, 15, 17, 22, 18, 19, 20, 21, 23, 24, 27, 25, 29]\n",
      "[0, 1, 2, 3, 4, 5, 6, 7, 8, 9, 10, 11, 12, 13, 14, 28, 16, 15, 26, 17, 18, 22, 19, 20, 21, 23, 24, 25, 27, 29]\n",
      "[0, 1, 2, 3, 4, 5, 6, 7, 8, 9, 10, 11, 12, 13, 14, 15, 28, 16, 17, 26, 18, 19, 22, 20, 21, 23, 24, 25, 27, 29]\n",
      "[0, 1, 2, 3, 4, 5, 6, 7, 8, 9, 10, 11, 12, 13, 14, 15, 16, 28, 17, 18, 26, 19, 20, 22, 21, 23, 24, 25, 27, 29]\n",
      "[0, 1, 2, 3, 4, 5, 6, 7, 8, 9, 10, 11, 12, 13, 14, 15, 16, 17, 28, 18, 19, 26, 20, 21, 22, 23, 24, 25, 27, 29]\n",
      "[0, 1, 2, 3, 4, 5, 6, 7, 8, 9, 10, 11, 12, 13, 14, 15, 16, 17, 18, 28, 19, 20, 26, 21, 22, 23, 24, 25, 27, 29]\n",
      "[0, 1, 2, 3, 4, 5, 6, 7, 8, 9, 10, 11, 12, 13, 14, 15, 16, 17, 18, 19, 28, 20, 21, 26, 22, 23, 24, 25, 27, 29]\n",
      "[0, 1, 2, 3, 4, 5, 6, 7, 8, 9, 10, 11, 12, 13, 14, 15, 16, 17, 18, 19, 20, 28, 21, 22, 26, 23, 24, 25, 27, 29]\n",
      "[0, 1, 2, 3, 4, 5, 6, 7, 8, 9, 10, 11, 12, 13, 14, 15, 16, 17, 18, 19, 20, 21, 28, 22, 23, 26, 24, 25, 27, 29]\n",
      "[0, 1, 2, 3, 4, 5, 6, 7, 8, 9, 10, 11, 12, 13, 14, 15, 16, 17, 18, 19, 20, 21, 22, 28, 23, 24, 26, 25, 27, 29]\n",
      "[0, 1, 2, 3, 4, 5, 6, 7, 8, 9, 10, 11, 12, 13, 14, 15, 16, 17, 18, 19, 20, 21, 22, 23, 28, 24, 25, 26, 27, 29]\n",
      "[0, 1, 2, 3, 4, 5, 6, 7, 8, 9, 10, 11, 12, 13, 14, 15, 16, 17, 18, 19, 20, 21, 22, 23, 24, 28, 25, 26, 27, 29]\n",
      "[0, 1, 2, 3, 4, 5, 6, 7, 8, 9, 10, 11, 12, 13, 14, 15, 16, 17, 18, 19, 20, 21, 22, 23, 24, 25, 28, 26, 27, 29]\n",
      "[0, 1, 2, 3, 4, 5, 6, 7, 8, 9, 10, 11, 12, 13, 14, 15, 16, 17, 18, 19, 20, 21, 22, 23, 24, 25, 26, 28, 27, 29]\n",
      "[0, 1, 2, 3, 4, 5, 6, 7, 8, 9, 10, 11, 12, 13, 14, 15, 16, 17, 18, 19, 20, 21, 22, 23, 24, 25, 26, 27, 28, 29]\n",
      "[0, 1, 2, 3, 4, 5, 6, 7, 8, 9, 10, 11, 12, 13, 14, 15, 16, 17, 18, 19, 20, 21, 22, 23, 24, 25, 26, 27, 28, 29]\n",
      "[0, 1, 2, 3, 4, 5, 6, 7, 8, 9, 10, 11, 12, 13, 14, 15, 16, 17, 18, 19, 20, 21, 22, 23, 24, 25, 26, 27, 28, 29]\n",
      "[0, 1, 2, 3, 4, 5, 6, 7, 8, 9, 10, 11, 12, 13, 14, 15, 16, 17, 18, 19, 20, 21, 22, 23, 24, 25, 26, 27, 28, 29]\n",
      "[0, 1, 2, 3, 4, 5, 6, 7, 8, 9, 10, 11, 12, 13, 14, 15, 16, 17, 18, 19, 20, 21, 22, 23, 24, 25, 26, 27, 28, 29]\n"
     ]
    }
   ],
   "source": [
    "def bubble_sort(seq):\n",
    "    for i in range(0, len(seq)):\n",
    "        for j in range(len(seq) - 1, i, -1):\n",
    "            if seq[j] < seq[j-1]:\n",
    "                swap(seq, j, j - 1)\n",
    "        #print(seq)\n",
    "    return seq\n",
    "    \n",
    "    \n",
    "print(s)\n",
    "#print(bubble_sort([55, 7, 78, 12, 42]))\n",
    "print(bubble_sort(copy(s)))"
   ]
  },
  {
   "cell_type": "markdown",
   "metadata": {},
   "source": [
    "## Merge Sort"
   ]
  },
  {
   "cell_type": "code",
   "execution_count": 25,
   "metadata": {},
   "outputs": [
    {
     "name": "stdout",
     "output_type": "stream",
     "text": [
      "[8, 28, 16, 3, 26, 6, 1, 22, 17, 18, 7, 4, 12, 15, 27, 24, 2, 14, 20, 25, 19, 13, 10, 9, 21, 11, 29, 5, 0, 23]\n",
      "[0, 1, 2, 3, 4, 5, 6, 7, 8, 9, 10, 11, 12, 13, 14, 15, 16, 17, 18, 19, 20, 21, 22, 23, 24, 25, 26, 27, 28, 29]\n"
     ]
    }
   ],
   "source": [
    "def merge(l, r):\n",
    "    ret = []\n",
    "    lsize = len(l)\n",
    "    rsize = len(r)\n",
    "    l.append(sys.maxsize)\n",
    "    r.append(sys.maxsize)\n",
    "    \n",
    "    curl = 0\n",
    "    curr = 0\n",
    "    for i in range(0, lsize + rsize):\n",
    "        if l[curl] <= r[curr]:\n",
    "            ret.append(l[curl])\n",
    "            curl += 1\n",
    "        else:\n",
    "            ret.append(r[curr])\n",
    "            curr += 1\n",
    "    return ret\n",
    "\n",
    "def merge_sort(seq):\n",
    "    if len(seq) > 1:\n",
    "        q = len(seq)//2\n",
    "        l = merge_sort(seq[:q])\n",
    "        r = merge_sort(seq[q:])\n",
    "        return merge(l, r)\n",
    "    else:\n",
    "        return seq\n",
    "        \n",
    "print(s)\n",
    "#print(bubble_sort([55, 7, 78, 12, 42]))\n",
    "print(merge_sort(copy(s)))        "
   ]
  },
  {
   "cell_type": "markdown",
   "metadata": {},
   "source": [
    "## Heap Sort"
   ]
  },
  {
   "cell_type": "code",
   "execution_count": 54,
   "metadata": {},
   "outputs": [
    {
     "name": "stdout",
     "output_type": "stream",
     "text": [
      "[8, 28, 16, 3, 26, 6, 1, 22, 17, 18, 7, 4, 12, 15, 27, 24, 2, 14, 20, 25, 19, 13, 10, 9, 21, 11, 29, 5, 0, 23]\n",
      "[78, 42, 55, 12, 7]\n",
      "[7, 12, 42, 55, 78]\n",
      "[29, 28, 27, 24, 26, 21, 23, 22, 20, 25, 13, 16, 12, 15, 8, 3, 2, 14, 17, 18, 19, 7, 10, 9, 4, 11, 6, 5, 0, 1]\n",
      "[0, 1, 2, 3, 4, 5, 6, 7, 8, 9, 10, 11, 12, 13, 14, 15, 16, 17, 18, 19, 20, 21, 22, 23, 24, 25, 26, 27, 28, 29]\n"
     ]
    }
   ],
   "source": [
    "\n",
    "def max_heapify(seq, size, i):\n",
    "    left = 2*i + 1\n",
    "    right = 2*i + 2\n",
    "    \n",
    "    largest = i\n",
    "    if left < size and seq[left] > seq[i]:\n",
    "        largest = left\n",
    "    \n",
    "    if right < size and seq[right] > seq[largest]:\n",
    "        largest = right\n",
    "        \n",
    "    if largest != i:\n",
    "        swap(seq, i, largest)\n",
    "        max_heapify(seq, size, largest)\n",
    "\n",
    "def build_max_heap(seq):\n",
    "    for i in range(len(seq)//2 - 1,  -1 , -1):\n",
    "        max_heapify(seq, len(seq), i)\n",
    "        \n",
    "def heap_sort(seq):\n",
    "    build_max_heap(seq)\n",
    "    print(seq)\n",
    "    \n",
    "    for i in range(len(seq) - 1):\n",
    "        last = (len(seq) - 1) - i\n",
    "        swap(seq, 0, last)\n",
    "        #print(i, seq)\n",
    "        max_heapify(seq, len(seq) - i - 1, 0)\n",
    "        #print(i, seq)\n",
    "    return seq\n",
    "\n",
    "print(s)\n",
    "print(heap_sort([55, 7, 78, 12, 42]))\n",
    "print(heap_sort(copy(s)))\n",
    "    "
   ]
  },
  {
   "cell_type": "code",
   "execution_count": null,
   "metadata": {
    "collapsed": true
   },
   "outputs": [],
   "source": []
  }
 ],
 "metadata": {
  "kernelspec": {
   "display_name": "Python 3",
   "language": "python",
   "name": "python3"
  },
  "language_info": {
   "codemirror_mode": {
    "name": "ipython",
    "version": 3
   },
   "file_extension": ".py",
   "mimetype": "text/x-python",
   "name": "python",
   "nbconvert_exporter": "python",
   "pygments_lexer": "ipython3",
   "version": "3.5.2"
  }
 },
 "nbformat": 4,
 "nbformat_minor": 2
}
