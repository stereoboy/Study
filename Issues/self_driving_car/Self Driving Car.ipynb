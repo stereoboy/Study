{
 "cells": [
  {
   "cell_type": "markdown",
   "metadata": {},
   "source": [
    "\n",
    "# References\n",
    "\n",
    "## Open Source Self Driving Car\n",
    "* https://github.com/udacity/self-driving-car/\n",
    "* https://www.udacity.com/self-driving-car\n",
    "\n",
    "\n",
    "## Udacity Self Driving Car Nano Degree\n",
    "* https://classroom.udacity.com/me"
   ]
  },
  {
   "cell_type": "markdown",
   "metadata": {
    "collapsed": true
   },
   "source": [
    "# Open Source\n",
    "## comma.ai\n",
    "\n",
    "* http://research.comma.ai/\n",
    "  * https://github.com/commaai/research"
   ]
  },
  {
   "cell_type": "markdown",
   "metadata": {},
   "source": [
    "# Dataset\n",
    "## Cityscapes Dataset\n",
    "* Dataset \n",
    "  * https://www.cityscapes-dataset.com/\n",
    "\n",
    "## Robot Car Datasets\n",
    "* http://robotcar-dataset.robots.ox.ac.uk/examples/\n",
    "\n",
    "## Self Racing Cars Dataset\n",
    "* http://selfracingcars.com/blog/2016/7/26/polysync\n",
    "\n",
    "## Self Racing Cars Dataset 2\n",
    "* http://data.selfracingcars.com/\n",
    "\n",
    "## Comma.ai Driving Dataset\n",
    "* http://research.comma.ai/"
   ]
  },
  {
   "cell_type": "code",
   "execution_count": null,
   "metadata": {
    "collapsed": true
   },
   "outputs": [],
   "source": []
  }
 ],
 "metadata": {
  "kernelspec": {
   "display_name": "Python 2",
   "language": "python",
   "name": "python2"
  },
  "language_info": {
   "codemirror_mode": {
    "name": "ipython",
    "version": 2
   },
   "file_extension": ".py",
   "mimetype": "text/x-python",
   "name": "python",
   "nbconvert_exporter": "python",
   "pygments_lexer": "ipython2",
   "version": "2.7.12"
  }
 },
 "nbformat": 4,
 "nbformat_minor": 1
}
