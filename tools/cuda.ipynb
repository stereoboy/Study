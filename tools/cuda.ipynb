{
 "cells": [
  {
   "cell_type": "markdown",
   "metadata": {},
   "source": [
    "### References\n",
    "* devblog\n",
    "  * https://devblogs.nvidia.com/parallelforall/even-easier-introduction-cuda/\n",
    "* code samples\n",
    "  * https://developer.nvidia.com/cuda-code-samples\n",
    "  * http://docs.nvidia.com/cuda/cuda-samples/index.html#simple\n",
    "* books\n",
    "  * https://developer.nvidia.com/cuda-example\n"
   ]
  },
  {
   "cell_type": "markdown",
   "metadata": {},
   "source": [
    "### CUDA Runtime API VS CUDA Driver API"
   ]
  }
 ],
 "metadata": {
  "kernelspec": {
   "display_name": "Python 3",
   "language": "python",
   "name": "python3"
  },
  "language_info": {
   "codemirror_mode": {
    "name": "ipython",
    "version": 3
   },
   "file_extension": ".py",
   "mimetype": "text/x-python",
   "name": "python",
   "nbconvert_exporter": "python",
   "pygments_lexer": "ipython3",
   "version": "3.5.2"
  }
 },
 "nbformat": 4,
 "nbformat_minor": 2
}
