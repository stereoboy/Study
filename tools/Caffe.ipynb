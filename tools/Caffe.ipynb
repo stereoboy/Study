{
 "cells": [
  {
   "cell_type": "markdown",
   "metadata": {},
   "source": []
  },
  {
   "cell_type": "markdown",
   "metadata": {},
   "source": []
  },
  {
   "cell_type": "markdown",
   "metadata": {},
   "source": [
    "# Install\n",
    "\n",
    "### References\n",
    "* Official\n",
    "  * wiki\n",
    "    * https://github.com/BVLC/caffe/wiki\n",
    "  * Homepage\n",
    "    * http://caffe.berkeleyvision.org/\n",
    "* Others \n",
    "  * https://hpc.uiowa.edu/sites/hpc.uiowa.edu/files/wysiwyg_uploads/ModifiedCaffeTutorial_0.pdf\n",
    "\n",
    "### Prerequirements\n",
    "* DB (http://caffe.berkeleyvision.org/tutorial/data.html)\n",
    "  * level db\n",
    "    * fast key-value storage library written at Google\n",
    "    * https://github.com/google/leveldb\n",
    "  * lmdb\n",
    "    * lightning memory-mapped database\n",
    "    * https://en.wikipedia.org/wiki/Lightning_Memory-Mapped_Database\n",
    "* protobuf\n",
    "  * for serialize/deserialize\n",
    "  * https://en.wikipedia.org/wiki/Protocol_Buffers\n",
    "* hdf5\n",
    "  * file format, Hierarchical Data Format\n",
    "  * https://en.wikipedia.org/wiki/Hierarchical_Data_Format\n",
    "* glog\n",
    "  * logging library from google\n",
    "  * https://github.com/google/glog\n",
    "* gflags\n",
    "  * command line flag parser\n",
    "  * https://github.com/gflags/gflags\n",
    "  \n",
    "  \n",
    "* for python\n",
    "  * for pygraphviz, which pydot is dependent on\n",
    "    * PyGraphviz doesn't work without Graphviz\n",
    "    * `sudo apt-get install graphviz`\n",
    "  * `pip3 install pydot scikit-image pytest`\n",
    "  \n",
    "```sh\n",
    "sudo apt-get install libprotobuf-dev libleveldb-dev libsnappy-dev libhdf5-serial-dev protobuf-compiler\n",
    "sudo apt-get install --no-install-recommends libboost-all-dev\n",
    "sudo apt-get install libatlas-base-dev\n",
    "sudo apt-get install libgflags-dev libgoogle-glog-dev liblmdb-dev\n",
    "```\n"
   ]
  },
  {
   "cell_type": "markdown",
   "metadata": {},
   "source": [
    "### Fix\n",
    "\n",
    "```diff\n",
    "diff --git a/Makefile b/Makefile\n",
    "index 4d32416..ad173f8 100644\n",
    "--- a/Makefile\n",
    "+++ b/Makefile\n",
    "@@ -178,7 +178,7 @@ ifneq ($(CPU_ONLY), 1)\n",
    "    LIBRARIES := cudart cublas curand\n",
    " endif\n",
    " \n",
    "-LIBRARIES += glog gflags protobuf boost_system boost_filesystem m hdf5_hl hdf5\n",
    "+LIBRARIES += glog gflags protobuf boost_system boost_filesystem m hdf5_serial_hl hdf5_serial\n",
    " \n",
    " # handle IO dependencies\n",
    " USE_LEVELDB ?= 1\n",
    "```"
   ]
  },
  {
   "cell_type": "markdown",
   "metadata": {},
   "source": [
    "### Configurations\n",
    "\n",
    "#### Makefile.config\n",
    "* for Multi-GPU\n",
    "```\n",
    "USE_NCCL := 1\n",
    "```\n",
    "  * install nccl (http://www.nvidia.com/object/caffe-installation.html)\n",
    "```\n",
    "$ git clone https://github.com/NVIDIA/nccl.git\n",
    "$ cd nccl\n",
    "$ sudo make install -j4\n",
    "```\n",
    "\n",
    "* for cudnn\n",
    "```\n",
    "USE_CUDNN:=1\n",
    "```\n",
    "* for opencv\n",
    "```\n",
    "OPENCV_VERSION:=3\n",
    "```\n",
    "* for python3\n",
    "```\n",
    "PYTHON_LIBRARIES := boost_python-py35 python3.5m\n",
    "PYTHON_INCLUDE := /usr/include/python3.5m \\\n",
    "                 /usr/lib/python3.5/dist-packages/numpy/core/include\n",
    "```\n",
    "* Custumize include and library dir\n",
    "  * e.g. I installed OpenCV with `prefix=/opt/` so I need `/opt/include`, `/opt/lib`\n",
    "```\n",
    "INCLUDE_DIRS := $(PYTHON_INCLUDE) /usr/local/include /usr/include/hdf5/serial/ /opt/include/\n",
    "LIBRARY_DIRS := $(PYTHON_LIB) /usr/local/lib /usr/lib /opt/lib\n",
    "```\n",
    "\n",
    "#### Makefile\n",
    "\n",
    "* for python3\n",
    "\n",
    "```diff\n",
    "@@ -533,7 +533,7 @@ runtest: $(TEST_ALL_BIN)\n",
    "    $(TEST_ALL_BIN) $(TEST_GPUID) --gtest_shuffle $(TEST_FILTER)\n",
    " \n",
    " pytest: py\n",
    "-   cd python; python -m unittest discover -s caffe/test\n",
    "+   cd python; python3 -m unittest discover -s caffe/test\n",
    " \n",
    " mattest: mat\n",
    "    cd matlab; $(MATLAB_DIR)/bin/matlab -nodisplay -r 'caffe.run_tests(), exit()'\n",
    "```"
   ]
  },
  {
   "cell_type": "markdown",
   "metadata": {},
   "source": [
    "### How to run my own code\n",
    "* ```export PYTHONPATH=~/work/caffe/ssd/python/```\n",
    "* Easy way\n",
    "  * put a **single** `*.cpp` file in ./examples\n",
    "* Build own project by linking caffe.so???\n",
    "  * 아직 모른다."
   ]
  },
  {
   "cell_type": "markdown",
   "metadata": {},
   "source": [
    "### save/load caffemodel\n",
    "\n",
    "* save\n",
    "  * declared in solver.prototxt\n",
    "```\n",
    "# snapshot intermediate results\n",
    "snapshot: 5000\n",
    "snapshot_prefix: \"examples/mnist/lenet\"\n",
    "```\n",
    "  * you can see `*.caffemodel`, `*.solverstate`\n",
    "```\n",
    "-rw-rw-r--  1 rofox rofox 1725006 May 25 10:59 lenet_iter_10000.caffemodel\n",
    "-rw-rw-r--  1 rofox rofox 1724471 May 25 10:59 lenet_iter_10000.solverstate\n",
    "-rw-rw-r--  1 rofox rofox 1725006 May 25 10:58 lenet_iter_5000.caffemodel\n",
    "-rw-rw-r--  1 rofox rofox 1724470 May 25 10:58 lenet_iter_5000.solverstate\n",
    "```\n",
    "\n",
    "* load\n",
    "  * "
   ]
  },
  {
   "cell_type": "markdown",
   "metadata": {},
   "source": [
    "### Multi GPU Test\n",
    "\n",
    "* cifar10 test total batch 100\n",
    "  \n",
    "| 1 gpu | 2 gpu | 4 gpu\n",
    ":-:|:-:|:-:|:-:\n",
    "local_batch x num_gpus| 100x1 | 50x2 | 25x4\n",
    "performance (iters/sec)| 30.2061 | 49.4755 | 57.3761\n",
    "ratio| 1 | 1.6379 | 1.8994"
   ]
  },
  {
   "cell_type": "code",
   "execution_count": null,
   "metadata": {
    "collapsed": true
   },
   "outputs": [],
   "source": []
  }
 ],
 "metadata": {
  "kernelspec": {
   "display_name": "Python 3",
   "language": "python",
   "name": "python3"
  },
  "language_info": {
   "codemirror_mode": {
    "name": "ipython",
    "version": 3
   },
   "file_extension": ".py",
   "mimetype": "text/x-python",
   "name": "python",
   "nbconvert_exporter": "python",
   "pygments_lexer": "ipython3",
   "version": "3.5.2"
  }
 },
 "nbformat": 4,
 "nbformat_minor": 2
}
