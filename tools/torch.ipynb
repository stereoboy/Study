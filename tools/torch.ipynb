{
 "cells": [
  {
   "cell_type": "markdown",
   "metadata": {},
   "source": [
    "# Pytorch\n",
    "* References\n",
    "  * http://pytorch.org/about/\n",
    "  \n",
    "* tensorflow와 다르게 기본 데이터 구조인 tensor가 cpu tensor(torch.Tensor)와 gput tensor(torch.cuda.Tensor)로 나뉜다.\n",
    "  * WHY???\n",
    "  * torch VS Others\n",
    "    * https://www.reddit.com/r/MachineLearning/comments/5w3q74/d_so_pytorch_vs_tensorflow_whats_the_verdict_on/\n",
    "  \n",
    "* Dynamic Computational Graph???\n",
    "  * https://medium.com/intuitionmachine/pytorch-dynamic-computational-graphs-and-modular-deep-learning-7e7f89f18d1\n",
    "  \n",
    "  ```\n",
    "  dynamic computational graphs are valuable for situations where you cannot determine the computation. One clear example of this are recursive computations that are based on variable data.\n",
    "  ```"
   ]
  },
  {
   "cell_type": "markdown",
   "metadata": {},
   "source": [
    "## load/save\n",
    "* Model Architecture/ Only the model parameters\n",
    "\n",
    "```python\n",
    "#============================ Save and load the model ============================#\n",
    "# Save and load the entire model.\n",
    "torch.save(resnet, 'model.pkl')\n",
    "model = torch.load('model.pkl')\n",
    "\n",
    "# Save and load only the model parameters(recommended).\n",
    "torch.save(resnet.state_dict(), 'params.pkl')\n",
    "resnet.load_state_dict(torch.load('params.pkl'))\n",
    "\n",
    "```"
   ]
  },
  {
   "cell_type": "markdown",
   "metadata": {},
   "source": [
    "## multigpus\n",
    "* Reference\n",
    "  * http://pytorch.org/tutorials/beginner/former_torchies/parallelism_tutorial.html"
   ]
  }
 ],
 "metadata": {
  "kernelspec": {
   "display_name": "Python 3",
   "language": "python",
   "name": "python3"
  },
  "language_info": {
   "codemirror_mode": {
    "name": "ipython",
    "version": 3
   },
   "file_extension": ".py",
   "mimetype": "text/x-python",
   "name": "python",
   "nbconvert_exporter": "python",
   "pygments_lexer": "ipython3",
   "version": "3.5.2"
  }
 },
 "nbformat": 4,
 "nbformat_minor": 2
}
