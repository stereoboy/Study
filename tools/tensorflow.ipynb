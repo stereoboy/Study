{
 "cells": [
  {
   "cell_type": "markdown",
   "metadata": {},
   "source": [
    "### Performance Analysis on Multi-Gpus\n",
    "\n",
    "* fix global batch_size\n",
    "\n",
    "| resnet152| resnet152| resnet152\n",
    "-|-|-|-\n",
    "global batch_size | 128| 128| 128 \n",
    "local batch_size x num_gpus | 64x2| 32x4| 16x8\n",
    "performance (imgs/sec) | OOM |73.62| 112.23\n",
    "ratio | - | 1 | 1.524449878 \n",
    "\n",
    "| vgg16| vgg16| vgg16\n",
    "-|-|-|-\n",
    "global batch_size | 128| 128| 128 \n",
    "local batch_size x num_gpus | 64x2| 32x4| 16x8\n",
    "performance (imgs/sec) | 74.72 | 132.34 | 181.97\n",
    "ratio | 1 | 1.7711 | 2.4353 "
   ]
  },
  {
   "cell_type": "markdown",
   "metadata": {},
   "source": [
    "* fix local batch_size\n",
    "\n",
    "| vgg16| vgg16| vgg16| vgg16\n",
    "-|-|-|-\n",
    "global batch_size | 64| 128| 256 | 512 \n",
    "local batch_size x num_gpus | 64x1| 64x2| 64x4| 64x8\n",
    "performance (imgs/sec) | 38.79 |  74.94 | 144.52 | 250.44 \n",
    "ratio |  1 | 1.9319 | 3.7257 | 6.4563"
   ]
  },
  {
   "cell_type": "code",
   "execution_count": null,
   "metadata": {
    "collapsed": true
   },
   "outputs": [],
   "source": []
  }
 ],
 "metadata": {
  "kernelspec": {
   "display_name": "Python 3",
   "language": "python",
   "name": "python3"
  },
  "language_info": {
   "codemirror_mode": {
    "name": "ipython",
    "version": 3
   },
   "file_extension": ".py",
   "mimetype": "text/x-python",
   "name": "python",
   "nbconvert_exporter": "python",
   "pygments_lexer": "ipython3",
   "version": "3.5.2"
  }
 },
 "nbformat": 4,
 "nbformat_minor": 2
}
