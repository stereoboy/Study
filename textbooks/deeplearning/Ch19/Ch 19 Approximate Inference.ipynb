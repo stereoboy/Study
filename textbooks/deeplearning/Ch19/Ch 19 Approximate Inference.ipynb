{
 "cells": [
  {
   "cell_type": "markdown",
   "metadata": {},
   "source": [
    "# Contents\n",
    "\n",
    "* Reviews\n",
    "* Introduction\n",
    "* Inference as Optimization\n",
    "* Expectation Maximization\n",
    "* MAP Inference and Sparse Coding\n",
    "* Variational Inference and Learning\n",
    "  * Discrete Latent Variables\n",
    "  * Calculus of Variations\n",
    "  * Continuous Latent Variables\n",
    "  * Interactions between Learning and Inference\n",
    "* Learned Approximate Inference\n",
    "  * Wake-Sleep\n",
    "  * Other Forms of Learned Inference"
   ]
  },
  {
   "cell_type": "markdown",
   "metadata": {},
   "source": [
    "# Reviews\n",
    "\n",
    "## Restricted  Boltzmann Machine (Ch 16)\n",
    "<img  src=\"DR23XARKAK1OJG5MDJETKLSIW8PEOAG6.png\"/>\n",
    "\n",
    "* Energy-based Model\n",
    "  * $\\tilde{p}(\\mathbf{x})=\\exp(-E(\\mathbf{x}))$\n",
    "\n",
    "<img  src=\"S1X0KQP97T23G5QX6L7G2QIH3VIBD0QD.png\"/>\n",
    "\n",
    "<img  src=\"NAK9BFBQ7RDDAB9RD1IOICDMFALQX3BP.png\"/>\n",
    "\n",
    "<img  src=\"S1YQFFW9S57PAD8W52R6FFTMEMIBFSAJ.png\"/>"
   ]
  },
  {
   "cell_type": "markdown",
   "metadata": {},
   "source": [
    "<img  src=\"P7KADC64VURK2IVABTPF27B6H2241WQW.png\"/>"
   ]
  },
  {
   "cell_type": "markdown",
   "metadata": {},
   "source": [
    "<img  src=\"O0C3C7YKQ34BDB0PSNRHKC6VREILBW4V.png\"/>"
   ]
  },
  {
   "cell_type": "markdown",
   "metadata": {},
   "source": [
    "### Discrete Case of RBM\n",
    "\n",
    "* All $\\mathbf{h}_i$, $\\mathbf{v}_i$ are 0 or 1\n",
    "<img  src=\"Q4UR9PGI9NIXPK8LQX7OIKHT8BW3WBL8.png\"/>"
   ]
  },
  {
   "cell_type": "markdown",
   "metadata": {},
   "source": [
    "<img  src=\"KA6O2NPDWROIC1P0T30AXUDANVDM3DAE.png\"/>"
   ]
  },
  {
   "cell_type": "markdown",
   "metadata": {},
   "source": [
    "* We can extract closed form $p(\\mathbf{h}|\\mathbf{v})$, $p(\\mathbf{v}|\\mathbf{h})$\n",
    "* How $p(\\mathbf{v})$?\n",
    "<img  src=\"WE990XBY9VDGTW5EB0441NMIY555U29D.png\"/>"
   ]
  },
  {
   "cell_type": "markdown",
   "metadata": {},
   "source": [
    "<img  src=\"XLUK9NTJAVBFV63WW4BQ0D8HFF5C57EN.png\"/>"
   ]
  },
  {
   "cell_type": "markdown",
   "metadata": {},
   "source": [
    "## Intractability of computing Partition Functions, Again\n",
    "\n",
    "* Computing $\\tilde{p}(\\mathbf{v})$ is easy\n",
    "* But How to compute $p(\\mathbf{v}) = \\cfrac{1}{Z} \\tilde{p}(\\mathbf{v})$\n",
    "* We need to Compute Partition Function $Z$\n",
    "<img  src=\"O0C3C7YKQ34BDB0PSNRHKC6VREILBW4V.png\"/>\n",
    "\n",
    "* Given Visible\n",
    "  * $\\mathbf{x}^{(i)}$\n",
    "* Generated \"Visible\" and Hidden Variables from Gibbs Sampling\n",
    "  * $\\tilde{\\mathbf{x}}^{(i)}$, $\\mathbf{h}^{(j)}$\n",
    "* Variables: $W$, $\\mathbf{b}$, $\\mathbf{c}$\n",
    "  * Calculating Gradients of these."
   ]
  },
  {
   "cell_type": "markdown",
   "metadata": {},
   "source": [
    "<img  src=\"C87MXUD6E3NYCBAQ3V4L8T70RYNNQLJE.png\"/>"
   ]
  },
  {
   "cell_type": "markdown",
   "metadata": {},
   "source": [
    "# Introduction\n",
    "\n",
    "> The Chanllege of inference usually refers to the difficult problem of computing $p(h|v)$ or taking expectations with respect to it\n",
    "\n",
    "* $p(v)$, $p(h|v)$, $p(v|h)$ are important! for the next explanation"
   ]
  },
  {
   "cell_type": "markdown",
   "metadata": {},
   "source": [
    "<img  src=\"SE4APQUGKS87K7VML2EPNVW8TMKFM735.png\"/>"
   ]
  },
  {
   "cell_type": "markdown",
   "metadata": {},
   "source": [
    "# 19.1 Inference as Optimization\n",
    "\n",
    "\n",
    "* What we want to know $\\log p(v;\\theta)$\n",
    "  * Inference of $\\log p(v;\\theta)$ is intractable\n",
    "  * We get Lower Bound $L$ instead of it\n",
    "  * Consider hidden variables $h$\n",
    "  * Induce new probability $q$"
   ]
  },
  {
   "cell_type": "markdown",
   "metadata": {},
   "source": [
    "<img  src=\"TGQX8E77RM8PGYRC475K79AX3RS6OLRC.png\"/>"
   ]
  },
  {
   "cell_type": "markdown",
   "metadata": {},
   "source": [
    "<img  src=\"LX0G7OB9WY139T80BV7CND659XJ9YFN1.png\"/>"
   ]
  },
  {
   "cell_type": "markdown",
   "metadata": {},
   "source": [
    "* $L$ is tighter\n",
    "  * => $q(h|v)$ are better approximations of $p(h|v)$\n",
    "  * $q(h|v) == p(h|v)$ => $L = \\log p(v;\\theta)$"
   ]
  },
  {
   "cell_type": "markdown",
   "metadata": {},
   "source": [
    "# 19.2 Expectation Maximization\n",
    "\n",
    "* A Popular Training Algorithm for models with Latent Variables.\n",
    "  * K-Mean\n",
    "* Not Approximate Inference\n",
    "* Approximate Posterior\n",
    "* Stochastic gradient ascent on latent variable models can be seen as a special case of the EM algorithm\n",
    "  * where the M step consists of taking a single gradient step."
   ]
  },
  {
   "cell_type": "markdown",
   "metadata": {},
   "source": [
    "<img  src=\"R9VVIJ50IY3DX4PS2OLILCJ0L78Y8GKY.png\"/>"
   ]
  },
  {
   "cell_type": "markdown",
   "metadata": {},
   "source": [
    "<img  src=\"CSP1XGHWC3SQB2RGNJWNHFDD6EDCPYCT.png\"/>"
   ]
  },
  {
   "cell_type": "markdown",
   "metadata": {},
   "source": [
    "# 19.3 MAP Inference and Sparse Coding"
   ]
  },
  {
   "cell_type": "markdown",
   "metadata": {},
   "source": [
    "# 19.4 Variational Inference and Learning\n",
    "## 19.4.1 Discrete Latent Variables\n",
    "\n",
    "## 19.4.2 Calculus of Variations\n",
    "\n",
    "## 19.4.3 Continuous Latent Variables\n",
    "\n",
    "## 19.4.4 Interactions between Learning and Inference"
   ]
  },
  {
   "cell_type": "markdown",
   "metadata": {},
   "source": [
    "# 19.5 Learned Approximate Inference\n",
    "\n",
    "## 19.5.1 Wake-Sleep\n",
    "\n",
    "## 19.5.2 Other Forms of Learned Inference"
   ]
  }
 ],
 "metadata": {
  "kernelspec": {
   "display_name": "Python 2",
   "language": "python",
   "name": "python2"
  },
  "language_info": {
   "codemirror_mode": {
    "name": "ipython",
    "version": 2
   },
   "file_extension": ".py",
   "mimetype": "text/x-python",
   "name": "python",
   "nbconvert_exporter": "python",
   "pygments_lexer": "ipython2",
   "version": "2.7.12"
  }
 },
 "nbformat": 4,
 "nbformat_minor": 1
}
